{
 "cells": [
  {
   "cell_type": "markdown",
   "id": "1eb69d9b-72f1-4d8b-8914-5e13ecaaa0c6",
   "metadata": {},
   "source": [
    "## Classifying Medical Text with PyTorch\n",
    "\n",
    "In this project, we'll explore how to build deep learning models with PyTorch to classify health-related medical text into its correct focus area. We'll use a subset of the [MedQuAD dataset](https://github.com/abachaa/MedQuAD/tree/master) from this [research paper](https://arxiv.org/pdf/1901.08079), which is a real-world dataset containing medical question-answer pairs that have been collected from trusted health sources such as the NIH and MedlinePlus. Each answer is associated with a specific _focus area_ representing the broader medical topic it aims to address. \n",
    "\n",
    "In clinical settings, manual labeling of medical information is tedious, time-consuming, and expensive. Therefore, the goal of this project is to build an automated AI system to help medical professionals better categorize and organize vast amounts of medical information quickly and accurately. \n",
    "\n",
    "Specifically, this project looks to build two deep learning classifiers:\n",
    "\n",
    "🧠 **1. Feedforward Neural Network**\n",
    "- a simple feedforward neural network to serve as a baseline model\n",
    "- faster and less expensive to train\n",
    "\n",
    "🤖 **2. Fine-tuned BERT Model**\n",
    "- a specialized pre-trained PubMedBERT trained on biomedical literature\n",
    "- leverages attention mechanisms to understand medical text better\n",
    "\n",
    "**Note:** The models in this project are built and trained on a limited dataset that may not generalize well to the broader population or clinical settings. Therefore, the models are not intended for real-world medical applications and should not be relied upon for diagnosing, predicting, or managing any health outcomes. Any health-related decisions should always be made with the guidance of a qualified healthcare professional!\n",
    "\n",
    "#### MedQuAD Dataset Column Summary\n",
    "\n",
    "- **question**: A question related to a specific medical topic typically asked by patients.\n",
    "- **answer**: An accurate response to the question sourced from trusted health organizations.\n",
    "- **source**: The official source that provided the question-answer pair.\n",
    "- **focus_area**: The broader, overarching medical top the question-answer pair belongs to."
   ]
  },
  {
   "cell_type": "markdown",
   "id": "f73e8ecc-2b2e-4241-bc46-8864b8370149",
   "metadata": {},
   "source": [
    "#### Import Libraries"
   ]
  },
  {
   "cell_type": "code",
   "execution_count": 1,
   "id": "f4155cb3-0c50-4270-8010-9ec56511913f",
   "metadata": {},
   "outputs": [],
   "source": [
    "import numpy as np\n",
    "import pandas as pd\n",
    "\n",
    "import torch\n",
    "torch.manual_seed(42)\n",
    "\n",
    "from transformers import logging\n",
    "logging.set_verbosity_error()\n",
    "\n",
    "import seaborn as sns\n",
    "sns.set(style='whitegrid', palette='Paired')\n",
    "\n",
    "import matplotlib.pyplot as plt\n",
    "%matplotlib inline"
   ]
  },
  {
   "cell_type": "markdown",
   "id": "d4d4cfa2-5733-4f5c-b935-8a89dcfedfeb",
   "metadata": {},
   "source": [
    "#### Load and Inspect Data"
   ]
  },
  {
   "cell_type": "code",
   "execution_count": 2,
   "id": "1152b8ee-9def-44c8-a103-38e6b0d899fb",
   "metadata": {},
   "outputs": [
    {
     "data": {
      "text/html": [
       "<div>\n",
       "<style scoped>\n",
       "    .dataframe tbody tr th:only-of-type {\n",
       "        vertical-align: middle;\n",
       "    }\n",
       "\n",
       "    .dataframe tbody tr th {\n",
       "        vertical-align: top;\n",
       "    }\n",
       "\n",
       "    .dataframe thead th {\n",
       "        text-align: right;\n",
       "    }\n",
       "</style>\n",
       "<table border=\"1\" class=\"dataframe\">\n",
       "  <thead>\n",
       "    <tr style=\"text-align: right;\">\n",
       "      <th></th>\n",
       "      <th>question</th>\n",
       "      <th>answer</th>\n",
       "      <th>source</th>\n",
       "      <th>focus_area</th>\n",
       "    </tr>\n",
       "  </thead>\n",
       "  <tbody>\n",
       "    <tr>\n",
       "      <th>0</th>\n",
       "      <td>What is (are) Glaucoma ?</td>\n",
       "      <td>Glaucoma is a group of diseases that can damag...</td>\n",
       "      <td>NIHSeniorHealth</td>\n",
       "      <td>Glaucoma</td>\n",
       "    </tr>\n",
       "    <tr>\n",
       "      <th>1</th>\n",
       "      <td>What causes Glaucoma ?</td>\n",
       "      <td>Nearly 2.7 million people have glaucoma, a lea...</td>\n",
       "      <td>NIHSeniorHealth</td>\n",
       "      <td>Glaucoma</td>\n",
       "    </tr>\n",
       "    <tr>\n",
       "      <th>2</th>\n",
       "      <td>What are the symptoms of Glaucoma ?</td>\n",
       "      <td>Symptoms of Glaucoma  Glaucoma can develop in ...</td>\n",
       "      <td>NIHSeniorHealth</td>\n",
       "      <td>Glaucoma</td>\n",
       "    </tr>\n",
       "    <tr>\n",
       "      <th>3</th>\n",
       "      <td>What are the treatments for Glaucoma ?</td>\n",
       "      <td>Although open-angle glaucoma cannot be cured, ...</td>\n",
       "      <td>NIHSeniorHealth</td>\n",
       "      <td>Glaucoma</td>\n",
       "    </tr>\n",
       "    <tr>\n",
       "      <th>4</th>\n",
       "      <td>What is (are) Glaucoma ?</td>\n",
       "      <td>Glaucoma is a group of diseases that can damag...</td>\n",
       "      <td>NIHSeniorHealth</td>\n",
       "      <td>Glaucoma</td>\n",
       "    </tr>\n",
       "  </tbody>\n",
       "</table>\n",
       "</div>"
      ],
      "text/plain": [
       "                                 question  \\\n",
       "0                What is (are) Glaucoma ?   \n",
       "1                  What causes Glaucoma ?   \n",
       "2     What are the symptoms of Glaucoma ?   \n",
       "3  What are the treatments for Glaucoma ?   \n",
       "4                What is (are) Glaucoma ?   \n",
       "\n",
       "                                              answer           source  \\\n",
       "0  Glaucoma is a group of diseases that can damag...  NIHSeniorHealth   \n",
       "1  Nearly 2.7 million people have glaucoma, a lea...  NIHSeniorHealth   \n",
       "2  Symptoms of Glaucoma  Glaucoma can develop in ...  NIHSeniorHealth   \n",
       "3  Although open-angle glaucoma cannot be cured, ...  NIHSeniorHealth   \n",
       "4  Glaucoma is a group of diseases that can damag...  NIHSeniorHealth   \n",
       "\n",
       "  focus_area  \n",
       "0   Glaucoma  \n",
       "1   Glaucoma  \n",
       "2   Glaucoma  \n",
       "3   Glaucoma  \n",
       "4   Glaucoma  "
      ]
     },
     "execution_count": 2,
     "metadata": {},
     "output_type": "execute_result"
    }
   ],
   "source": [
    "medquad_df = pd.read_csv(\"datasets/medquad.csv\")\n",
    "medquad_df.head()"
   ]
  },
  {
   "cell_type": "code",
   "execution_count": 3,
   "id": "a7c313e6-a0a6-4f48-a99c-68e83659dd0b",
   "metadata": {},
   "outputs": [
    {
     "name": "stdout",
     "output_type": "stream",
     "text": [
      "<class 'pandas.core.frame.DataFrame'>\n",
      "RangeIndex: 16412 entries, 0 to 16411\n",
      "Data columns (total 4 columns):\n",
      " #   Column      Non-Null Count  Dtype \n",
      "---  ------      --------------  ----- \n",
      " 0   question    16412 non-null  object\n",
      " 1   answer      16407 non-null  object\n",
      " 2   source      16412 non-null  object\n",
      " 3   focus_area  16398 non-null  object\n",
      "dtypes: object(4)\n",
      "memory usage: 513.0+ KB\n"
     ]
    }
   ],
   "source": [
    "medquad_df.info()"
   ]
  },
  {
   "cell_type": "markdown",
   "id": "c94557fe-5dd7-4d10-9ac4-4a45f9cb6fc7",
   "metadata": {},
   "source": [
    "It looks like there are 16,412 question-answer pairs (rows), but there are some questions with answers missing. There are also a couple of pairs missing their focus area."
   ]
  },
  {
   "cell_type": "markdown",
   "id": "7de4d66d-8275-40e9-ad04-e8aa6ccd2fe0",
   "metadata": {},
   "source": [
    "#### Data Exploration and Visualization\n",
    "\n",
    "Next, let's explore and visualize the data!\n",
    "\n",
    "**Focus Areas**"
   ]
  },
  {
   "cell_type": "code",
   "execution_count": 4,
   "id": "d5def9c4-eeb8-402a-88ef-7ac1b601321f",
   "metadata": {},
   "outputs": [
    {
     "data": {
      "text/plain": [
       "5126"
      ]
     },
     "execution_count": 4,
     "metadata": {},
     "output_type": "execute_result"
    }
   ],
   "source": [
    "# Count the number of unique focus areas\n",
    "medquad_df['focus_area'].nunique()"
   ]
  },
  {
   "cell_type": "markdown",
   "id": "a9aadcea-bc50-4358-b00f-c651ff281eff",
   "metadata": {},
   "source": [
    "Looks like there are 5,126 unique focus areas. Let's take a look at the most commonly occurring focus areas."
   ]
  },
  {
   "cell_type": "code",
   "execution_count": 5,
   "id": "39a5cd61-d984-4c96-93da-f30347accd4e",
   "metadata": {},
   "outputs": [
    {
     "data": {
      "text/plain": [
       "focus_area\n",
       "Breast Cancer                       53\n",
       "Prostate Cancer                     43\n",
       "Stroke                              35\n",
       "Skin Cancer                         34\n",
       "Alzheimer's Disease                 30\n",
       "Colorectal Cancer                   29\n",
       "Lung Cancer                         29\n",
       "Causes of Diabetes                  28\n",
       "Heart Failure                       28\n",
       "High Blood Cholesterol              28\n",
       "Heart Attack                        28\n",
       "High Blood Pressure                 27\n",
       "Parkinson's Disease                 25\n",
       "Leukemia                            22\n",
       "Shingles                            21\n",
       "Osteoporosis                        21\n",
       "Age-related Macular Degeneration    20\n",
       "Diabetes                            20\n",
       "Hemochromatosis                     20\n",
       "Diabetic Retinopathy                19\n",
       "Psoriasis                           19\n",
       "Gum (Periodontal) Disease           19\n",
       "Kidney Disease                      17\n",
       "Dry Mouth                           16\n",
       "Balance Problems                    16\n",
       "Name: count, dtype: int64"
      ]
     },
     "execution_count": 5,
     "metadata": {},
     "output_type": "execute_result"
    }
   ],
   "source": [
    "# Counts of the top 25 most common focus areas\n",
    "medquad_df['focus_area'].value_counts()[:25]"
   ]
  },
  {
   "cell_type": "markdown",
   "id": "459788fd-3158-40df-9cb2-962eeb00836a",
   "metadata": {},
   "source": [
    "**Focus Groups**\n",
    "\n",
    "Instead of trying to classify 5,126 unique classes, let's group the top 25 most common focus areas into **5** broader categories (focus groups):\n",
    "- Cancers\n",
    "- Cardiovascular diseases\n",
    "- Metabolic and endocrine disorders\n",
    "- Neurological and cognitive disorders\n",
    "- Other age-related and immune disorders"
   ]
  },
  {
   "cell_type": "code",
   "execution_count": 6,
   "id": "dbe48fc1-26f4-419e-8ea5-95cbae821952",
   "metadata": {},
   "outputs": [
    {
     "name": "stdout",
     "output_type": "stream",
     "text": [
      "Number of unique focus groups: 5\n"
     ]
    }
   ],
   "source": [
    "# Group the top 25 most common focus areas into 5 broader categories (focus groups)\n",
    "focus_area_map = {\n",
    "    'Cancers': ['Breast Cancer', 'Prostate Cancer', 'Skin Cancer', \n",
    "                'Colorectal Cancer', 'Lung Cancer', 'Leukemia'],\n",
    "    \n",
    "    'Cardiovascular Diseases': ['Stroke', 'Heart Failure', 'Heart Attack',\n",
    "                                'High Blood Cholesterol', 'High Blood Pressure'],\n",
    "    \n",
    "    'Metabolic & Endocrine Disorders': ['Causes of Diabetes', 'Diabetes', 'Diabetic Retinopathy',\n",
    "                                        'Hemochromatosis', 'Kidney Disease'],\n",
    "    \n",
    "    'Neurological & Cognitive Disorders': ['Alzheimer\\'s Disease', 'Parkinson\\'s Disease', 'Balance Problems'],\n",
    "    \n",
    "    'Other Age-Related & Immune Disorders': ['Shingles', 'Osteoporosis', 'Age-related Macular Degeneration',\n",
    "                                             'Psoriasis', 'Gum (Periodontal) Disease', 'Dry Mouth']\n",
    "}\n",
    "\n",
    "# Create reverse mapping\n",
    "condition_to_focus_area = {\n",
    "    condition: focus_area\n",
    "    for focus_area, conditions in focus_area_map.items()\n",
    "    for condition in conditions\n",
    "}\n",
    "\n",
    "# Create new column `focus_group` containing focus group\n",
    "medquad_df['focus_group'] = medquad_df['focus_area'].map(condition_to_focus_area)\n",
    "\n",
    "# Verify the number of unique focus groups\n",
    "n_focus_groups = medquad_df['focus_group'].nunique()\n",
    "print(\"Number of unique focus groups:\", n_focus_groups)"
   ]
  },
  {
   "cell_type": "markdown",
   "id": "0157e9a3-b84b-4fbc-92b7-6c77ced9ff80",
   "metadata": {},
   "source": [
    "When we created the new column `focus_group`, it returned `nan` values for rows without a focus group (corresponding to rows whose focus area was not in the top 25 most occurring). \n",
    "\n",
    "We'll use `.dropna()` to drop the rows with `nan` values."
   ]
  },
  {
   "cell_type": "code",
   "execution_count": 7,
   "id": "1c03cb98-e8e9-4e2a-8737-6f5ea3290beb",
   "metadata": {},
   "outputs": [
    {
     "name": "stdout",
     "output_type": "stream",
     "text": [
      "Shape before dropping: (16412, 5)\n",
      "Shape after dropping: (647, 5)\n"
     ]
    }
   ],
   "source": [
    "# Drops missing values including those without a focus group\n",
    "print(\"Shape before dropping:\", medquad_df.shape)\n",
    "medquad_df = medquad_df.dropna()\n",
    "print(\"Shape after dropping:\", medquad_df.shape)"
   ]
  },
  {
   "cell_type": "markdown",
   "id": "b6ded1ca-e1a1-4cc8-9857-5616ad5b8c87",
   "metadata": {},
   "source": [
    "Let's visualize the counts within each focus group."
   ]
  },
  {
   "cell_type": "code",
   "execution_count": 8,
   "id": "c738c89b-696f-44f0-8f9d-92ff8fa0b8d8",
   "metadata": {},
   "outputs": [
    {
     "data": {
      "image/png": "[encoded data removed]",
      "text/plain": [
       "<Figure size 640x480 with 1 Axes>"
      ]
     },
     "metadata": {},
     "output_type": "display_data"
    },
    {
     "name": "stdout",
     "output_type": "stream",
     "text": [
      "focus_group\n",
      "Cancers                                 210\n",
      "Cardiovascular Diseases                 146\n",
      "Other Age-Related & Immune Disorders    116\n",
      "Metabolic & Endocrine Disorders         104\n",
      "Neurological & Cognitive Disorders       71\n",
      "Name: count, dtype: int64\n",
      "focus_group\n",
      "Cancers                                 0.324575\n",
      "Cardiovascular Diseases                 0.225657\n",
      "Other Age-Related & Immune Disorders    0.179289\n",
      "Metabolic & Endocrine Disorders         0.160742\n",
      "Neurological & Cognitive Disorders      0.109737\n",
      "Name: proportion, dtype: float64\n"
     ]
    }
   ],
   "source": [
    "# Plot focus group counts\n",
    "sns.countplot(x='focus_group', data=medquad_df)\n",
    "plt.title('Focus Group Counts')\n",
    "plt.xticks(rotation=75)\n",
    "plt.show()\n",
    "\n",
    "print(medquad_df['focus_group'].value_counts(0))\n",
    "print(medquad_df['focus_group'].value_counts(1))"
   ]
  },
  {
   "cell_type": "markdown",
   "id": "406bc8cf-1fc7-421d-a53b-705dee5471bc",
   "metadata": {},
   "source": [
    "**Answer Training Text**\n",
    "\n",
    "Let's calculate descriptive statistics for the text lengths in the `answer` column, which will serve as the training texts."
   ]
  },
  {
   "cell_type": "code",
   "execution_count": 9,
   "id": "3efee259-0c1b-4074-9976-2580da9ea90b",
   "metadata": {},
   "outputs": [
    {
     "data": {
      "text/html": [
       "<div>\n",
       "<style scoped>\n",
       "    .dataframe tbody tr th:only-of-type {\n",
       "        vertical-align: middle;\n",
       "    }\n",
       "\n",
       "    .dataframe tbody tr th {\n",
       "        vertical-align: top;\n",
       "    }\n",
       "\n",
       "    .dataframe thead th {\n",
       "        text-align: right;\n",
       "    }\n",
       "</style>\n",
       "<table border=\"1\" class=\"dataframe\">\n",
       "  <thead>\n",
       "    <tr style=\"text-align: right;\">\n",
       "      <th></th>\n",
       "      <th>answer_char_length</th>\n",
       "      <th>answer_word_count</th>\n",
       "    </tr>\n",
       "  </thead>\n",
       "  <tbody>\n",
       "    <tr>\n",
       "      <th>count</th>\n",
       "      <td>647.000000</td>\n",
       "      <td>647.000000</td>\n",
       "    </tr>\n",
       "    <tr>\n",
       "      <th>mean</th>\n",
       "      <td>2084.395672</td>\n",
       "      <td>330.584235</td>\n",
       "    </tr>\n",
       "    <tr>\n",
       "      <th>std</th>\n",
       "      <td>2736.381687</td>\n",
       "      <td>418.234941</td>\n",
       "    </tr>\n",
       "    <tr>\n",
       "      <th>min</th>\n",
       "      <td>87.000000</td>\n",
       "      <td>10.000000</td>\n",
       "    </tr>\n",
       "    <tr>\n",
       "      <th>25%</th>\n",
       "      <td>458.500000</td>\n",
       "      <td>75.000000</td>\n",
       "    </tr>\n",
       "    <tr>\n",
       "      <th>50%</th>\n",
       "      <td>1066.000000</td>\n",
       "      <td>171.000000</td>\n",
       "    </tr>\n",
       "    <tr>\n",
       "      <th>75%</th>\n",
       "      <td>2598.000000</td>\n",
       "      <td>423.500000</td>\n",
       "    </tr>\n",
       "    <tr>\n",
       "      <th>max</th>\n",
       "      <td>29046.000000</td>\n",
       "      <td>4281.000000</td>\n",
       "    </tr>\n",
       "  </tbody>\n",
       "</table>\n",
       "</div>"
      ],
      "text/plain": [
       "       answer_char_length  answer_word_count\n",
       "count          647.000000         647.000000\n",
       "mean          2084.395672         330.584235\n",
       "std           2736.381687         418.234941\n",
       "min             87.000000          10.000000\n",
       "25%            458.500000          75.000000\n",
       "50%           1066.000000         171.000000\n",
       "75%           2598.000000         423.500000\n",
       "max          29046.000000        4281.000000"
      ]
     },
     "execution_count": 9,
     "metadata": {},
     "output_type": "execute_result"
    }
   ],
   "source": [
    "# Character lengths\n",
    "medquad_df['answer_char_length'] = medquad_df['answer'].astype(str).apply(len)\n",
    "# Word lengths\n",
    "medquad_df['answer_word_count'] = medquad_df['answer'].astype(str).apply(lambda x: len(x.split()))\n",
    "\n",
    "# Calculate descriptive statistics\n",
    "answer_length_stats = medquad_df[['answer_char_length', 'answer_word_count']].describe()\n",
    "answer_length_stats"
   ]
  },
  {
   "cell_type": "code",
   "execution_count": 10,
   "id": "73c60057-89bf-4b12-88a2-35c850c7935e",
   "metadata": {},
   "outputs": [
    {
     "data": {
      "image/png": "[encoded data removed]",
      "text/plain": [
       "<Figure size 1600x400 with 1 Axes>"
      ]
     },
     "metadata": {},
     "output_type": "display_data"
    }
   ],
   "source": [
    "# Visualize the distribution of word counts\n",
    "plt.figure(figsize=(16, 4))\n",
    "plt.subplot(1, 2, 1)\n",
    "sns.histplot(medquad_df['answer_word_count'], kde=True, color='skyblue')\n",
    "plt.title('Distribution of Answer Word Counts', fontsize=14)\n",
    "plt.xlabel('Number of Words', fontsize=12)\n",
    "plt.ylabel('Frequency', fontsize=12)\n",
    "plt.axvline(x=answer_length_stats['answer_word_count']['mean'], \n",
    "            color='red', linestyle='--', label=f\"Mean: {answer_length_stats['answer_word_count']['mean']:.1f}\")\n",
    "plt.legend()\n",
    "plt.show()"
   ]
  },
  {
   "cell_type": "markdown",
   "id": "1e0c1e56-0a17-47ba-978e-518ba1bfa93c",
   "metadata": {},
   "source": [
    "Looking at the descriptive statistics for the word counts in the `answer` texts, we see that:\n",
    "- the mean word count is 330.6 words\n",
    "- the median word count is 171.0 words (which is notably different than the mean)\n",
    "- the shortest text is 10 words\n",
    "- the longest text is 4,281 words\n",
    "\n",
    "We might consider dropping texts with notably low or high word counts (outliers)."
   ]
  },
  {
   "cell_type": "code",
   "execution_count": null,
   "id": "a6ec7dce-13c9-41a4-b9e7-f67c792647be",
   "metadata": {},
   "outputs": [],
   "source": []
  },
  {
   "cell_type": "markdown",
   "id": "f1c1588a-8dc3-4f4a-b8c3-0688f799770a",
   "metadata": {},
   "source": [
    "#### Text Cleaning and Pre-Processing\n",
    "\n",
    "Next, we'll need to clean and pre-process the texts in the `answer` column and the target labels in the `focus_group` column."
   ]
  },
  {
   "cell_type": "markdown",
   "id": "a13c2ef5-7fa7-46bb-afd6-a8584d400d63",
   "metadata": {},
   "source": [
    "**Encode Target Focus Groups**"
   ]
  },
  {
   "cell_type": "code",
   "execution_count": 11,
   "id": "bda36668-9bf2-4d12-83c4-75d45c8a7e9a",
   "metadata": {},
   "outputs": [],
   "source": [
    "focus_map = {\"Neurological & Cognitive Disorders\":0,\n",
    "             \"Cancers\":1,\n",
    "             \"Cardiovascular Diseases\":2,\n",
    "             \"Metabolic & Endocrine Disorders\":3,\n",
    "             \"Other Age-Related & Immune Disorders\":4}\n",
    "\n",
    "medquad_df['focus_group'] = medquad_df['focus_group'].replace(focus_map)"
   ]
  },
  {
   "cell_type": "markdown",
   "id": "5bad93e2-f875-4c28-9b7a-80300b588105",
   "metadata": {},
   "source": [
    "**Drop Duplicate Rows**\n",
    "\n",
    "We've noticed that many of the text in the `answer` column are duplicates (or fairly similar), which is common among medical texts.\n",
    "\n",
    "We'll need to drop duplicates, otherwise:\n",
    "- the model will overfit to over-represented texts\n",
    "- the model will have more trouble generalizing to unseen texts\n",
    "- model training will take longer "
   ]
  },
  {
   "cell_type": "code",
   "execution_count": 12,
   "id": "b4f3e9ec-5762-4152-b544-b0935395ecc5",
   "metadata": {},
   "outputs": [
    {
     "name": "stdout",
     "output_type": "stream",
     "text": [
      "Shape before duplicates: (647, 7)\n",
      "Shape after removing duplicates: (624, 7)\n"
     ]
    }
   ],
   "source": [
    "# Returns all rows that are duplicates of a previous row\n",
    "print(\"Shape before duplicates:\", medquad_df.shape)\n",
    "duplicates = medquad_df[medquad_df.duplicated(subset='answer')]\n",
    "medquad_df = medquad_df.drop_duplicates(subset='answer')\n",
    "print(\"Shape after removing duplicates:\", medquad_df.shape)"
   ]
  },
  {
   "cell_type": "markdown",
   "id": "ec6b4a03-8748-4eea-bd1a-9238eb8f35d3",
   "metadata": {},
   "source": [
    "**Split the Data into Training and Testing Sets**\n",
    "\n",
    "Let's split the dataset into 80% training and 20% testing.\n",
    "\n",
    "Since our dataset is fairly small (considering that we only used the top 25 most occurring focus areas), we'll need to stratify the distribution of focus groups to ensure fair representation in the training and testing sets."
   ]
  },
  {
   "cell_type": "code",
   "execution_count": 13,
   "id": "a76a8a7b-8b63-410a-bf0c-25745e5759e6",
   "metadata": {},
   "outputs": [],
   "source": [
    "from sklearn.model_selection import train_test_split\n",
    "\n",
    "train_df, test_df = train_test_split(medquad_df,\n",
    "                                     test_size=0.2,\n",
    "                                     random_state=42,\n",
    "                                     stratify=medquad_df['focus_group'])"
   ]
  },
  {
   "cell_type": "code",
   "execution_count": 14,
   "id": "f5442f11-078b-4e22-b907-396f8e4fa0d0",
   "metadata": {},
   "outputs": [
    {
     "name": "stdout",
     "output_type": "stream",
     "text": [
      "Training set distribution: focus_group\n",
      "1    0.334669\n",
      "2    0.234469\n",
      "4    0.186373\n",
      "3    0.130261\n",
      "0    0.114228\n",
      "Name: proportion, dtype: float64\n",
      "Testing set distribution: focus_group\n",
      "1    0.336\n",
      "2    0.232\n",
      "4    0.184\n",
      "3    0.136\n",
      "0    0.112\n",
      "Name: proportion, dtype: float64\n"
     ]
    }
   ],
   "source": [
    "print(\"Training set distribution:\", train_df['focus_group'].value_counts(1))\n",
    "print(\"Testing set distribution:\", test_df['focus_group'].value_counts(1))"
   ]
  },
  {
   "cell_type": "markdown",
   "id": "2a6b643f-584c-488f-aa70-a063b240df28",
   "metadata": {},
   "source": [
    "**Create Training Corpus**"
   ]
  },
  {
   "cell_type": "markdown",
   "id": "cb6b9d20-16ad-45fe-88ff-38fba6a7e362",
   "metadata": {},
   "source": [
    "Next, let's create the training corpus by converting each text sequence and focus group labels to lists:\n",
    "\n",
    "- `train_texts` will contain each answer text separated by commas\n",
    "- `train_labels` will contain each focus group label separated by commas"
   ]
  },
  {
   "cell_type": "code",
   "execution_count": 15,
   "id": "aaaaa233-30fb-400e-afdd-de94557f0fae",
   "metadata": {},
   "outputs": [
    {
     "name": "stdout",
     "output_type": "stream",
     "text": [
      "[\"Diabetic retinopathy often has no early warning signs. Don't wait for symptoms. Be sure to have a comprehensive dilated eye exam at least once a year.  Learn more about a comprehensive dilated eye exam.\", 'Breast cancer affects one in eight women during their lives. Breast cancer kills more women in the United States than any cancer except lung cancer. No one knows why some women get breast cancer, but there are a number of risk factors. Risks that you cannot change include       - Age - the chance of getting breast cancer rises as a woman gets older     - Genes - there are two genes, BRCA1 and BRCA2, that greatly increase the risk. Women who have family members with breast or ovarian cancer may wish to be tested.     - Personal factors - beginning periods before age 12 or going through menopause after age 55       Other risks include being overweight, using hormone replacement therapy (also called menopausal hormone therapy), taking birth control pills, drinking alcohol, not having children or having your first child after age 35 or having dense breasts.    Symptoms of breast cancer may include a lump in the breast, a change in size or shape of the breast or discharge from a nipple. Breast self-exam and mammography can help find breast cancer early when it is most treatable. Treatment may consist of radiation, lumpectomy, mastectomy, chemotherapy and hormone therapy.    Men can have breast cancer, too, but the number of cases is small.    NIH: National Cancer Institute']\n",
      "[3, 1]\n"
     ]
    }
   ],
   "source": [
    "train_texts = train_df['answer'].tolist()\n",
    "train_labels = train_df['focus_group'].tolist()\n",
    "\n",
    "# Print the first two training texts and labels\n",
    "print(train_texts[0:2])\n",
    "print(train_labels[0:2])"
   ]
  },
  {
   "cell_type": "markdown",
   "id": "b674cef6-bd48-47ff-a610-ec5d70b4ce5d",
   "metadata": {},
   "source": [
    "**Remove Keywords from Training Text**\n",
    "\n",
    "One issue we might encounter is that the training text might contain the actual focus group label, which may cause data leakage. Our model could cheat by detecting keywords and memorizing the focus group label instead of actually learning the patterns and relationships within the medical text.\n",
    "\n",
    "One strategy is to remove keywords from the training text:"
   ]
  },
  {
   "cell_type": "code",
   "execution_count": 16,
   "id": "95bbc422-dc16-4063-8555-040063dc9992",
   "metadata": {},
   "outputs": [],
   "source": [
    "import re\n",
    "\n",
    "remove_keywords = [\n",
    "    'Breast Cancer', 'Prostate Cancer', 'Skin Cancer',\n",
    "    'Colorectal Cancer', 'Lung Cancer', 'Leukemia', 'Stroke', 'Heart Failure', 'Heart Attack',\n",
    "    'High Blood Cholesterol', 'High Blood Pressure', 'Causes of Diabetes', 'Diabetes', 'Diabetic Retinopathy',\n",
    "    'Hemochromatosis', 'Kidney Disease', 'Alzheimer\\'s Disease', 'Parkinson\\'s Disease', 'Balance Problems',\n",
    "    'Shingles', 'Osteoporosis', 'Age-related Macular Degeneration',\n",
    "    'Psoriasis', 'Gum (Periodontal) Disease', 'Dry Mouth'\n",
    "]\n",
    "\n",
    "# Split all multi-word phrases into individual words \n",
    "# Ex. \"High Blood Cholesterol\" ==> \"High\", \"Blood\", \"Cholesterol\"\n",
    "words_to_remove = set()\n",
    "for phrase in remove_keywords:\n",
    "    for word in re.findall(r'\\b\\w+\\b', phrase):\n",
    "        words_to_remove.add(word.lower())  # lowercased for case-insensitive match\n",
    "\n",
    "# Create regex pattern to match any of the words\n",
    "pattern = re.compile(r'\\b(?:' + '|'.join(map(re.escape, words_to_remove)) + r')\\b', flags=re.IGNORECASE)\n",
    "\n",
    "# Remove individual words from each text\n",
    "masked_train_texts = [pattern.sub('', text) for text in train_texts]\n",
    "\n",
    "# Normalize whitespace\n",
    "masked_train_texts = [re.sub(r'\\s+', ' ', text).strip() for text in masked_train_texts]"
   ]
  },
  {
   "cell_type": "markdown",
   "id": "8c594a88-2e20-4f65-bda7-85aade0f8824",
   "metadata": {},
   "source": [
    "**Tokenize the Training Text**\n",
    "\n",
    "Next, we'll tokenize each training text into word tokens."
   ]
  },
  {
   "cell_type": "code",
   "execution_count": 17,
   "id": "a5b28811-8acc-4bf1-a209-5f5b319f7b07",
   "metadata": {},
   "outputs": [
    {
     "name": "stdout",
     "output_type": "stream",
     "text": [
      "['often', 'has', 'no', 'early', 'warning', 'signs', 'don', 't', 'wait', 'for', 'symptoms', 'be', 'sure', 'to', 'have', 'a', 'comprehensive', 'dilated', 'eye', 'exam', 'at', 'least', 'once', 'a', 'year', 'learn', 'more', 'about', 'a', 'comprehensive', 'dilated', 'eye', 'exam']\n"
     ]
    }
   ],
   "source": [
    "import re\n",
    "def tokenize(text):\n",
    "    tokenized_text = re.findall(r'\\b\\w+\\b', text.lower())\n",
    "    return tokenized_text\n",
    "\n",
    "tokenized_training_corpus = [tokenize(focus_area_text) for focus_area_text in masked_train_texts]\n",
    "\n",
    "# Print the first tokenized text sequence\n",
    "print(tokenized_training_corpus[0])"
   ]
  },
  {
   "cell_type": "markdown",
   "id": "262d5055-0a34-4900-b130-7bf76136f316",
   "metadata": {},
   "source": [
    "**Count the Number of Occurrences for each Word Token**"
   ]
  },
  {
   "cell_type": "code",
   "execution_count": 18,
   "id": "bc813f67-180c-4299-b708-6afc05ae2b3c",
   "metadata": {},
   "outputs": [],
   "source": [
    "from collections import Counter\n",
    "combined_training_corpus = []\n",
    "for text in tokenized_training_corpus:\n",
    "    for token in text:\n",
    "        combined_training_corpus.append(token)\n",
    "\n",
    "word_freqs = Counter(combined_training_corpus)"
   ]
  },
  {
   "cell_type": "markdown",
   "id": "56977f60-dfb3-41cc-bfe9-c2e07ca82c41",
   "metadata": {},
   "source": [
    "**Create the Vocabulary**\n",
    "\n",
    "We'll build the vocabulary using the top 1,000 most commonly occuring word tokens."
   ]
  },
  {
   "cell_type": "code",
   "execution_count": 19,
   "id": "813be2da-b804-4f28-8ddd-a29291c4ca30",
   "metadata": {},
   "outputs": [
    {
     "name": "stdout",
     "output_type": "stream",
     "text": [
      "Top 10 Most Common Words:  [('the', 7750), ('to', 3886), ('and', 3786), ('a', 3469), ('in', 2694), ('or', 2666), ('is', 2301), ('are', 1643), ('for', 1537), ('your', 1523)]\n"
     ]
    }
   ],
   "source": [
    "MAX_VOCAB_SIZE = 1000\n",
    "most_common_words = word_freqs.most_common(MAX_VOCAB_SIZE)\n",
    "print(\"Top 10 Most Common Words: \", most_common_words[0:10])"
   ]
  },
  {
   "cell_type": "markdown",
   "id": "874207ef-1f80-497b-b09e-39db1a48436b",
   "metadata": {},
   "source": [
    "Then, we'll create the vocabulary as a dictionary assigning each token a token ID based on its positional value and frequency counts. \n",
    "\n",
    "We'll also create two special tokens:\n",
    "- `<unk>` with the token ID value `0`\n",
    "- `<pad>` with the token ID value `1`"
   ]
  },
  {
   "cell_type": "code",
   "execution_count": 20,
   "id": "38cfc828-207d-4e65-b033-a4fd61e80bdc",
   "metadata": {},
   "outputs": [
    {
     "data": {
      "text/plain": [
       "1002"
      ]
     },
     "execution_count": 20,
     "metadata": {},
     "output_type": "execute_result"
    }
   ],
   "source": [
    "vocab = {word: idx + 2 for idx, (word, freq) in enumerate(most_common_words)}\n",
    "vocab['<unk>'] = 0\n",
    "vocab['<pad>'] = 1 \n",
    "\n",
    "len(vocab)"
   ]
  },
  {
   "cell_type": "markdown",
   "id": "e2c99cf2-1568-4e30-89c0-cdfeac498c72",
   "metadata": {},
   "source": [
    "**Encode and Pad/Truncate the Tokenized Text**\n",
    "\n",
    "Using the vocabulary, we'll encode the text.\n",
    "\n",
    "While encoding the text, we'll also pad or truncate the text to a specified maximum sequence length value of **128** tokens."
   ]
  },
  {
   "cell_type": "code",
   "execution_count": 21,
   "id": "90af8bff-ec66-42b0-8620-85f337c92067",
   "metadata": {},
   "outputs": [],
   "source": [
    "def encode_text(text, vocab):\n",
    "    tokenized_text = tokenize(text)\n",
    "    encoded_text = [vocab.get(word, vocab['<unk>']) for word in tokenized_text]\n",
    "    return encoded_text\n",
    "\n",
    "def pad_or_truncate(encoded_text, max_len):\n",
    "    if len(encoded_text) > max_len:\n",
    "        return encoded_text[:max_len]\n",
    "    else:\n",
    "        return encoded_text + [vocab['<pad>']] * (max_len - len(encoded_text)) "
   ]
  },
  {
   "cell_type": "code",
   "execution_count": 22,
   "id": "2ecefadf-2252-4269-8aac-2057bdeffd5a",
   "metadata": {},
   "outputs": [],
   "source": [
    "MAX_SEQ_LENGTH = 128\n",
    "padded_train_seqs = [pad_or_truncate(encode_text(seq, vocab), max_len=MAX_SEQ_LENGTH) for seq in train_texts]"
   ]
  },
  {
   "cell_type": "markdown",
   "id": "2f5d84fb-6274-4097-ab59-bd28ef6cda4b",
   "metadata": {},
   "source": [
    "**Convert to PyTorch Tensors**\n",
    "\n",
    "Next, we'll convert the encoded, tokenized text into PyTorch tensors for training.\n",
    "\n",
    "We'll also organize the training tensors into training batches."
   ]
  },
  {
   "cell_type": "code",
   "execution_count": 23,
   "id": "c0633f8b-09b0-479b-be24-1635b6fc32d6",
   "metadata": {},
   "outputs": [],
   "source": [
    "import torch\n",
    "X_train_tensor = torch.tensor(padded_train_seqs)\n",
    "y_train_tensor = torch.tensor(train_labels, dtype=torch.long)\n",
    "\n",
    "from torch.utils.data import DataLoader, TensorDataset\n",
    "batch_size = 16\n",
    "train_dataset = TensorDataset(X_train_tensor, y_train_tensor)\n",
    "train_dataloader = DataLoader(train_dataset, batch_size=batch_size, shuffle=True)"
   ]
  },
  {
   "cell_type": "code",
   "execution_count": null,
   "id": "fd47a816-7801-4a77-ab86-e819de8f8636",
   "metadata": {},
   "outputs": [],
   "source": []
  },
  {
   "cell_type": "markdown",
   "id": "43836968-1d4c-490b-93eb-33ea4a2a8e67",
   "metadata": {},
   "source": [
    "#### Simple Neural Network\n",
    "\n",
    "The first text classification model we'll build is a simple neural network with an embedding layer that will serve as a baseline model. "
   ]
  },
  {
   "cell_type": "markdown",
   "id": "52970464-4090-4926-b8f2-de94cfea4f97",
   "metadata": {},
   "source": [
    "**Build NN Architecture**"
   ]
  },
  {
   "cell_type": "code",
   "execution_count": 24,
   "id": "f5cb2107-752a-48c5-9450-577b7889d539",
   "metadata": {},
   "outputs": [],
   "source": [
    "import torch.nn as nn\n",
    "import torch.optim as optim\n",
    "torch.manual_seed(42) # set random seed --do not change!\n",
    "\n",
    "class SimpleNNWithEmbedding(nn.Module):\n",
    "    def __init__(self, vocab_size, embed_size, hidden_size, output_size):\n",
    "        super(SimpleNNWithEmbedding, self).__init__()\n",
    "        self.embedding = nn.Embedding(vocab_size, embed_size)\n",
    "        self.fc1 = nn.Linear(embed_size, hidden_size)\n",
    "        self.fc2 = nn.Linear(hidden_size, output_size)\n",
    "\n",
    "    def forward(self, x):\n",
    "        x = self.embedding(x)\n",
    "        x = torch.mean(x, dim=1)\n",
    "        x = self.fc1(x)\n",
    "        x = torch.relu(x)\n",
    "        x = self.fc2(x)\n",
    "        return x"
   ]
  },
  {
   "cell_type": "markdown",
   "id": "6694b6fe-7596-4a31-be11-815b704e399a",
   "metadata": {},
   "source": [
    "**Instantiate the Model**"
   ]
  },
  {
   "cell_type": "code",
   "execution_count": 25,
   "id": "5821d26a-e142-4059-b395-84289fef710c",
   "metadata": {},
   "outputs": [
    {
     "name": "stdout",
     "output_type": "stream",
     "text": [
      "SimpleNNWithEmbedding(\n",
      "  (embedding): Embedding(1002, 50)\n",
      "  (fc1): Linear(in_features=50, out_features=100, bias=True)\n",
      "  (fc2): Linear(in_features=100, out_features=5, bias=True)\n",
      ")\n"
     ]
    }
   ],
   "source": [
    "vocab_size = len(vocab)\n",
    "embed_size = 50 \n",
    "hidden_size = 100\n",
    "output_size = n_focus_groups\n",
    "\n",
    "nn_classifier = SimpleNNWithEmbedding(vocab_size, embed_size, hidden_size, output_size)\n",
    "print(nn_classifier)"
   ]
  },
  {
   "cell_type": "markdown",
   "id": "120987aa-8c98-4bb0-99d3-59ee020013f1",
   "metadata": {},
   "source": [
    "**Specify Loss Function and Optimizer**"
   ]
  },
  {
   "cell_type": "code",
   "execution_count": 26,
   "id": "335c686c-0b32-4bd4-800a-c24be3640893",
   "metadata": {},
   "outputs": [],
   "source": [
    "criterion = nn.CrossEntropyLoss()\n",
    "optimizer = optim.Adam(nn_classifier.parameters(), lr=0.0001)"
   ]
  },
  {
   "cell_type": "markdown",
   "id": "b4c90222-1b38-48fb-861d-5ee045a8ee62",
   "metadata": {},
   "source": [
    "**Model Training**"
   ]
  },
  {
   "cell_type": "code",
   "execution_count": 27,
   "id": "51a7623f-24cf-4382-b5cc-728f6891e6e8",
   "metadata": {},
   "outputs": [
    {
     "name": "stdout",
     "output_type": "stream",
     "text": [
      "[Epoch 100/500], Average CE Loss: 1.1501948610\n",
      "[Epoch 200/500], Average CE Loss: 0.6930906149\n",
      "[Epoch 300/500], Average CE Loss: 0.3697187589\n",
      "[Epoch 400/500], Average CE Loss: 0.1885060179\n",
      "[Epoch 500/500], Average CE Loss: 0.0910679052\n"
     ]
    }
   ],
   "source": [
    "def train_model(model, train_loader, criterion, optimizer, num_epochs=5):\n",
    "    for epoch in range(num_epochs):\n",
    "        model.train()\n",
    "        epoch_loss = 0.0\n",
    "        for batch_X, batch_y in train_loader:\n",
    "            optimizer.zero_grad()\n",
    "            output = model(batch_X)\n",
    "            loss = criterion(output, batch_y)\n",
    "            loss.backward()\n",
    "            optimizer.step()\n",
    "            epoch_loss += loss.item()\n",
    "\n",
    "        avg_loss = epoch_loss / len(train_loader)\n",
    "        if (epoch + 1) % 100 == 0:\n",
    "            print(f\"[Epoch {epoch + 1}/{num_epochs}], Average CE Loss: {avg_loss:.10f}\")\n",
    "\n",
    "# Train the model\n",
    "train_model(nn_classifier, train_dataloader, criterion, optimizer, num_epochs=500)"
   ]
  },
  {
   "cell_type": "markdown",
   "id": "d535d96f-5847-4b42-ac41-3596a5ffbf24",
   "metadata": {},
   "source": [
    "**Model Evaluation**\n",
    "\n",
    "Next, we'll evaluate the simple neural network on the testing set."
   ]
  },
  {
   "cell_type": "markdown",
   "id": "dee26435-8550-4c55-bea4-bc05d8b6bf8b",
   "metadata": {},
   "source": [
    "**Pre-Process the Testing Set**"
   ]
  },
  {
   "cell_type": "code",
   "execution_count": 28,
   "id": "0c10d6ea-f105-4304-b597-8b7ec168dd1d",
   "metadata": {},
   "outputs": [],
   "source": [
    "# Convert the testing texts and labels to lists\n",
    "test_texts = test_df['answer'].tolist()\n",
    "test_labels = test_df['focus_group'].tolist()\n",
    "\n",
    "# Encode and pad/truncate the testing sequences\n",
    "padded_test_seqs = [pad_or_truncate(encode_text(seq, vocab), MAX_SEQ_LENGTH) for seq in test_texts]\n",
    "\n",
    "# Convert testing sequences to tensors\n",
    "X_tensor_test = torch.tensor(padded_test_seqs)\n",
    "y_tensor_test = torch.tensor(test_labels, dtype=torch.long)\n",
    "\n",
    "# Batch the testing set\n",
    "from torch.utils.data import DataLoader, TensorDataset\n",
    "test_dataset = TensorDataset(X_tensor_test, y_tensor_test)\n",
    "test_loader = DataLoader(test_dataset, batch_size=8, shuffle=False)"
   ]
  },
  {
   "cell_type": "markdown",
   "id": "64d501d1-e23f-4fea-8e18-488296d1ae4c",
   "metadata": {},
   "source": [
    "**Generate Testing Set Predictions**"
   ]
  },
  {
   "cell_type": "code",
   "execution_count": 29,
   "id": "bb1cae2d-90ed-4c73-b6a0-14248591c047",
   "metadata": {},
   "outputs": [],
   "source": [
    "import torch.nn.functional as F\n",
    "\n",
    "def get_predictions_and_probabilities(model, test_loader):\n",
    "    model.eval()\n",
    "\n",
    "    all_probs = [] \n",
    "    all_labels = []\n",
    "\n",
    "    with torch.no_grad(): \n",
    "        for batch_X, batch_y in test_loader:\n",
    "            outputs = model(batch_X)\n",
    "            probs = F.softmax(outputs, dim=1)  \n",
    "            all_probs.extend(probs.cpu().numpy())\n",
    "            predicted_labels = torch.argmax(outputs, dim=1)\n",
    "            all_labels.extend(predicted_labels.cpu().numpy())\n",
    "\n",
    "    return all_probs, all_labels\n",
    "\n",
    "# Generate predictions\n",
    "nn_pred_probs, nn_pred_labels = get_predictions_and_probabilities(nn_classifier, test_loader)"
   ]
  },
  {
   "cell_type": "markdown",
   "id": "05e83749-a149-41d6-80cf-9349a75dc69c",
   "metadata": {},
   "source": [
    "**Evaluate the Neural Network**"
   ]
  },
  {
   "cell_type": "code",
   "execution_count": 30,
   "id": "80d60d24-4834-4ba9-bd2f-1a867418304a",
   "metadata": {},
   "outputs": [
    {
     "name": "stdout",
     "output_type": "stream",
     "text": [
      "[[12  1  0  1  0]\n",
      " [ 0 41  0  0  1]\n",
      " [ 1  3 22  2  1]\n",
      " [ 0  0  5  9  3]\n",
      " [ 0  1  2  0 20]]\n",
      "                                      precision    recall  f1-score   support\n",
      "\n",
      "  Neurological & Cognitive Disorders       0.92      0.86      0.89        14\n",
      "                             Cancers       0.89      0.98      0.93        42\n",
      "             Cardiovascular Diseases       0.76      0.76      0.76        29\n",
      "     Metabolic & Endocrine Disorders       0.75      0.53      0.62        17\n",
      "Other Age-Related & Immune Disorders       0.80      0.87      0.83        23\n",
      "\n",
      "                            accuracy                           0.83       125\n",
      "                           macro avg       0.82      0.80      0.81       125\n",
      "                        weighted avg       0.83      0.83      0.83       125\n",
      "\n"
     ]
    }
   ],
   "source": [
    "from sklearn.metrics import confusion_matrix, classification_report\n",
    "\n",
    "focus_group_names = [\"Neurological & Cognitive Disorders\", \"Cancers\", \"Cardiovascular Diseases\", \n",
    "                     \"Metabolic & Endocrine Disorders\", \"Other Age-Related & Immune Disorders\"]\n",
    "\n",
    "conf_matrix = confusion_matrix(test_labels, nn_pred_labels)\n",
    "report = classification_report(test_labels, nn_pred_labels, target_names=focus_group_names)\n",
    "\n",
    "print(conf_matrix)\n",
    "print(report)"
   ]
  },
  {
   "cell_type": "markdown",
   "id": "d6686bf3-61de-4309-86f9-35c29b680105",
   "metadata": {},
   "source": [
    "Nice, the simple neural network looks fairly decent, with an overall accuracy of 83%! \n",
    "\n",
    "Let's quickly review each classification metric:\n",
    "- **Precision:** Based on all of the predictions made for a specific focus group, how many of the predictions did the model get correct?\n",
    "- **Recall:** Based on all of the texts belonging to a specific focus group, how many did the model identify?\n",
    "- **F1-score:** The harmonic mean of precision and recall.\n",
    "\n",
    "Now, let's break down the performance for each class:\n",
    "- **Neurological & Cognitive Disorders:** high precision (few false positives) and good recall (identifies most texts). \n",
    "- **Cancers:** high precision (few false positives) and excellent recall (identifies 98% of cancer texts)\n",
    "- **Cardiovascular Diseases:** decent and balanced f1-score, but needs improvement in both precision and recall\n",
    "- **Metabolic & Endocrine Disorders:** decent precision (fair amount of false positives) but weak recall (failed to identify almost half of the focus group texts)\n",
    "- **Other Age-Related & Immune Disorders:** decent precision and strong recall\n",
    "\n",
    "Overall, the simple neural network does a decent job of classifying medical texts into the five focus groups, but there are definitely areas for improvement. For example, the worst-performing class, \"Metabolic & Endocrine Disorders,\" is also the most underrepresented class. We could improve performance by upsampling or adding more related texts to the training set."
   ]
  },
  {
   "cell_type": "code",
   "execution_count": null,
   "id": "66ddcd0e-987d-4191-9de8-f3f0c4ea0837",
   "metadata": {},
   "outputs": [],
   "source": []
  },
  {
   "cell_type": "markdown",
   "id": "e98f34a8-1b58-4652-9021-7c90156943bb",
   "metadata": {},
   "source": [
    "#### Fine-Tune a BERT Transformer\n",
    "\n",
    "Let's now train a more advanced BERT transformer!\n",
    "\n",
    "We'll use a specialized BERT called [BiomedBERT](https://huggingface.co/microsoft/BiomedNLP-BiomedBERT-base-uncased-abstract-fulltext) from HuggingFace that has been pre-trained on medical texts like abstracts and full articles from PubMed."
   ]
  },
  {
   "cell_type": "code",
   "execution_count": 31,
   "id": "82f52b3f-4b50-44cf-8e83-0629280ee817",
   "metadata": {},
   "outputs": [],
   "source": [
    "from transformers import AutoTokenizer, AutoModelForSequenceClassification\n",
    "import torch\n",
    "\n",
    "# Load BiomedBERT model and tokenizer\n",
    "model_name = \"microsoft/BiomedNLP-BiomedBERT-base-uncased-abstract-fulltext\"\n",
    "bert_tokenizer = AutoTokenizer.from_pretrained(model_name)\n",
    "bert_model = AutoModelForSequenceClassification.from_pretrained(model_name, num_labels=n_focus_groups)"
   ]
  },
  {
   "cell_type": "code",
   "execution_count": 32,
   "id": "23028b7f-66d5-4b66-b0de-f1750555452a",
   "metadata": {},
   "outputs": [
    {
     "name": "stdout",
     "output_type": "stream",
     "text": [
      "Using device: cuda\n"
     ]
    }
   ],
   "source": [
    "# Move model to GPU\n",
    "device = torch.device(\"cuda\" if torch.cuda.is_available() else \"cpu\")\n",
    "print(f\"Using device: {device}\")\n",
    "bert_model = bert_model.to(device)"
   ]
  },
  {
   "cell_type": "markdown",
   "id": "44cd3375-871d-4911-99d1-cbc32aa36321",
   "metadata": {},
   "source": [
    "**Freeze and Unfreeze Layers**\n",
    "\n",
    "Next, we'll freeze and unfreeze specific layers in the BiomedBERT:\n",
    "\n",
    "1. Initial freezing of all layers\n",
    "2. Unfreeze the classification head\n",
    "3. Unfreeze the last 3 transformer layers\n",
    "4. Unfreeze the pooler layer"
   ]
  },
  {
   "cell_type": "code",
   "execution_count": 33,
   "id": "49e73e5d-7722-4e89-9f47-87c429da4c5d",
   "metadata": {},
   "outputs": [],
   "source": [
    "# Freeze all parameters first\n",
    "for param in bert_model.parameters():\n",
    "    param.requires_grad = False\n",
    "\n",
    "# Unfreeze the classification head\n",
    "for param in bert_model.classifier.parameters():\n",
    "    param.requires_grad = True\n",
    "\n",
    "# Unfreeze the last 3 layers of the encoder (layers 9-11)\n",
    "for i in range(9, 12):\n",
    "    for param in bert_model.bert.encoder.layer[i].parameters():\n",
    "        param.requires_grad = True\n",
    "\n",
    "# Unfreeze the pooler (connecting the BERT output to the classification head)\n",
    "for param in bert_model.bert.pooler.parameters():\n",
    "    param.requires_grad = True"
   ]
  },
  {
   "cell_type": "markdown",
   "id": "84f3f792-2582-4500-9c91-8c5b2fa5c575",
   "metadata": {},
   "source": [
    "**Pre-Process the Training Text for BiomedBERT**\n",
    "\n",
    "1. Set a maximum sequence length of 512 tokens (standard for BiomedBERT)\n",
    "2. Tokenize the training texts\n",
    "3. Convert the training texts and labels into tensors\n",
    "4. Load the training data into batches\n",
    "\n",
    "Note: We'll use the same masked training set (with the focus group labels removed from the `answer` texts) to train the simple neural network."
   ]
  },
  {
   "cell_type": "code",
   "execution_count": 34,
   "id": "a00a88bb-c89a-49ac-a555-b45f900c7d5a",
   "metadata": {},
   "outputs": [],
   "source": [
    "MAX_SEQ_LENGTH = 512\n",
    "\n",
    "X_train = bert_tokenizer(masked_train_texts, padding=True, truncation=True, return_tensors=\"pt\", max_length=MAX_SEQ_LENGTH)\n",
    "y_train = torch.tensor(train_labels, dtype=torch.long)\n",
    "\n",
    "from torch.utils.data import DataLoader, TensorDataset\n",
    "train_dataset = TensorDataset(\n",
    "    X_train['input_ids'].to(device), \n",
    "    X_train['attention_mask'].to(device), \n",
    "    y_train.to(device)\n",
    ")\n",
    "train_loader = DataLoader(train_dataset, batch_size=16, shuffle=True)"
   ]
  },
  {
   "cell_type": "markdown",
   "id": "359cdcb1-5922-42e7-b939-f75dbdcc5374",
   "metadata": {},
   "source": [
    "**Specify Loss Function and Optimizer**"
   ]
  },
  {
   "cell_type": "code",
   "execution_count": 35,
   "id": "71492691-38f8-4b12-b84d-f344a0706ce2",
   "metadata": {},
   "outputs": [],
   "source": [
    "import torch.nn as nn\n",
    "import torch.optim as optim\n",
    "\n",
    "optimizer = torch.optim.AdamW(filter(lambda p: p.requires_grad, bert_model.parameters()), \n",
    "                              lr=0.00001)\n",
    "criterion = nn.CrossEntropyLoss()"
   ]
  },
  {
   "cell_type": "markdown",
   "id": "3bf11189-f57a-4840-b5cf-797eb73230d9",
   "metadata": {},
   "source": [
    "**Fine-Tuning Loop**"
   ]
  },
  {
   "cell_type": "code",
   "execution_count": 36,
   "id": "a88e58bb-f736-48ce-9a51-099e1976d60a",
   "metadata": {},
   "outputs": [
    {
     "name": "stdout",
     "output_type": "stream",
     "text": [
      "Epoch 1, Loss: 1.5464492812752724\n",
      "Epoch 2, Loss: 1.4472644589841366\n",
      "Epoch 3, Loss: 1.2931099757552147\n",
      "Epoch 4, Loss: 0.9881765721365809\n",
      "Epoch 5, Loss: 0.6530503612011671\n",
      "Epoch 6, Loss: 0.4282114403322339\n",
      "Epoch 7, Loss: 0.30224315030500293\n",
      "Epoch 8, Loss: 0.21683162776753306\n",
      "Epoch 9, Loss: 0.17268079495988786\n",
      "Epoch 10, Loss: 0.131569865741767\n"
     ]
    }
   ],
   "source": [
    "num_epochs = 10\n",
    "for epoch in range(num_epochs):\n",
    "    bert_model.train()\n",
    "    total_loss = 0.0\n",
    "    \n",
    "    for batch_X, batch_attention_mask, batch_y in train_loader:\n",
    "        optimizer.zero_grad()\n",
    "        outputs = bert_model(input_ids=batch_X, \n",
    "                                     attention_mask=batch_attention_mask)\n",
    "        logits = outputs.logits\n",
    "        loss = criterion(logits, batch_y)\n",
    "        total_loss += loss.item()\n",
    "        loss.backward()\n",
    "        optimizer.step()\n",
    "    \n",
    "    avg_loss = total_loss / len(train_loader)\n",
    "    if (epoch + 1) % 1 == 0:\n",
    "        print(f'Epoch {epoch+1}, Average CE Loss: {avg_loss}')"
   ]
  },
  {
   "cell_type": "markdown",
   "id": "3d8b0a4e-064e-4fc5-a004-cd5f8894d309",
   "metadata": {},
   "source": [
    "**Model Evaluation**\n",
    "\n",
    "Lastly, let's evaluate the fine-tuned BiomedBERT and compare its performance against the simple neural network baseline."
   ]
  },
  {
   "cell_type": "markdown",
   "id": "8d78318a-f0d8-4ad6-953c-0b9a4a7306da",
   "metadata": {},
   "source": [
    "**Pre-Process the Testing Set**"
   ]
  },
  {
   "cell_type": "code",
   "execution_count": 37,
   "id": "e5debb13-6320-4e64-9dcd-50420cb989b3",
   "metadata": {},
   "outputs": [],
   "source": [
    "# Tokenize and convert to tensors\n",
    "X_test = bert_tokenizer(test_texts, padding=True, truncation=True, return_tensors=\"pt\", max_length=MAX_SEQ_LENGTH)\n",
    "y_test = torch.tensor(test_labels, dtype=torch.long)\n",
    "\n",
    "# Batch the testing set\n",
    "from torch.utils.data import DataLoader, TensorDataset\n",
    "test_dataset = TensorDataset(X_test['input_ids'].to(device), \n",
    "                             X_test['attention_mask'].to(device),\n",
    "                             y_test.to(device))\n",
    "test_loader = DataLoader(test_dataset, batch_size=8, shuffle=False)"
   ]
  },
  {
   "cell_type": "markdown",
   "id": "31100376-41c1-4d56-b11f-1c312aa698fb",
   "metadata": {},
   "source": [
    "**Generate Testing Set Predictions**"
   ]
  },
  {
   "cell_type": "code",
   "execution_count": 38,
   "id": "be435beb-19a2-4081-92d2-8ef994c26783",
   "metadata": {},
   "outputs": [],
   "source": [
    "import torch.nn.functional as F\n",
    "\n",
    "bert_model.eval()\n",
    "bert_pred_probs = []\n",
    "bert_pred_labels = []\n",
    "\n",
    "with torch.no_grad():\n",
    "    for batch_X, batch_attention_mask, batch_y in test_loader:\n",
    "        outputs = bert_model(input_ids= batch_X, \n",
    "                                   attention_mask= batch_attention_mask)\n",
    "        logits = outputs.logits\n",
    "        probs = F.softmax(logits, dim=1)\n",
    "        bert_pred_probs.extend(probs.cpu().numpy())\n",
    "        \n",
    "        predicted_labels = torch.argmax(logits, dim=1)\n",
    "        bert_pred_labels.extend(predicted_labels.cpu().numpy())"
   ]
  },
  {
   "cell_type": "markdown",
   "id": "545afbe0-7f41-4c07-9fb3-2729a4fb0883",
   "metadata": {},
   "source": [
    "**Evaluate the Fine-Tuned BiomedBERT**"
   ]
  },
  {
   "cell_type": "code",
   "execution_count": 42,
   "id": "82b431a5-de43-4bc2-8151-8f72e86fbad9",
   "metadata": {},
   "outputs": [
    {
     "name": "stdout",
     "output_type": "stream",
     "text": [
      "[[14  0  0  0  0]\n",
      " [ 0 41  0  0  1]\n",
      " [ 0  0 29  0  0]\n",
      " [ 0  0  1 16  0]\n",
      " [ 0  0  0  0 23]]\n",
      "                                      precision    recall  f1-score   support\n",
      "\n",
      "  Neurological & Cognitive Disorders       1.00      1.00      1.00        14\n",
      "                             Cancers       1.00      0.98      0.99        42\n",
      "             Cardiovascular Diseases       0.97      1.00      0.98        29\n",
      "     Metabolic & Endocrine Disorders       1.00      0.94      0.97        17\n",
      "Other Age-Related & Immune Disorders       0.96      1.00      0.98        23\n",
      "\n",
      "                            accuracy                           0.98       125\n",
      "                           macro avg       0.98      0.98      0.98       125\n",
      "                        weighted avg       0.98      0.98      0.98       125\n",
      "\n"
     ]
    }
   ],
   "source": [
    "from sklearn.metrics import confusion_matrix, classification_report\n",
    "\n",
    "focus_group_names = [\"Neurological & Cognitive Disorders\", \"Cancers\", \"Cardiovascular Diseases\", \n",
    "                     \"Metabolic & Endocrine Disorders\", \"Other Age-Related & Immune Disorders\"]\n",
    "\n",
    "confusion_matrix = confusion_matrix(test_labels, bert_pred_labels)\n",
    "report = classification_report(test_labels, bert_pred_labels, target_names=focus_group_names)\n",
    "\n",
    "print(confusion_matrix)\n",
    "print(report)"
   ]
  },
  {
   "cell_type": "markdown",
   "id": "21314c50-a23c-4227-a7e4-ce4cf9373150",
   "metadata": {},
   "source": [
    "Amazingly, the fine-tuned specialized BiomedBERT significantly outperforms the simple neural network, achieving nearly perfect classification scores across all classes in each key metric! \n",
    "\n",
    "Now, let's break down the performance for each class:\n",
    "- **Neurological & Cognitive Disorders:** perfectly classified the text into this focus group\n",
    "- **Cancers:** perfect precision, near perfect recall\n",
    "- **Cardiovascular Diseases:** near perfect precision, perfect recall\n",
    "- **Metabolic & Endocrine Disorders:** perfect precision, high recall score (remember, the simple neural network had a recall score of 53% for this under-represented class!)\n",
    "- **Other Age-Related & Immune Disorders:** high precision, perfect recall\n",
    "\n",
    "The specialized BiomedBERT does a near-perfect job of classifying medical texts into the five focus groups. There are many things to consider as to why BiomedBERT performs much better than the simple neural network:\n",
    "- BiomedBERT is pre-trained on biomedical literature from PubMed and already has a strong foundational understanding of medical terminology and context\n",
    "- BiomedBERT has a much more complex architecture with attention mechanisms that allow it to better capture meaningful patterns and relationships within the training text\n",
    "\n",
    "The specialized BiomedBERT is the superior model for our medical text classification task!"
   ]
  },
  {
   "cell_type": "code",
   "execution_count": null,
   "id": "e00048c6-523e-48d3-83cb-daed704aa0f5",
   "metadata": {},
   "outputs": [],
   "source": []
  },
  {
   "cell_type": "markdown",
   "id": "041bb492-23a8-4a61-9f58-dd154e045e1f",
   "metadata": {},
   "source": [
    "#### Example Prediction\n",
    "\n",
    "Let's build a quick function that classifies an example text using the fine-tuned BiomedBERT."
   ]
  },
  {
   "cell_type": "code",
   "execution_count": 51,
   "id": "f0382543-eec1-4f83-af41-b9a4384d9704",
   "metadata": {},
   "outputs": [],
   "source": [
    "def biomedbert_classify_text(text):\n",
    "    \"\"\"\n",
    "    Function that classifies a medical text (str) into 5 focus groups: \n",
    "        - \"Neurological & Cognitive Disorders\" \n",
    "        - \"Cancers\" \n",
    "        - \"Cardiovascular Diseases\"\n",
    "        - \"Metabolic & Endocrine Disorders\" \n",
    "        - \"Other Age-Related & Immune Disorders\"\n",
    "    \"\"\"\n",
    "    # Pre-Process and Tokenize the Text\n",
    "    MAX_SEQ_LENGTH = 512\n",
    "    tokenized_text = bert_tokenizer(\n",
    "        example_text,\n",
    "        padding='max_length',\n",
    "        truncation=True,\n",
    "        max_length=MAX_SEQ_LENGTH,\n",
    "        return_tensors=\"pt\"\n",
    "    )\n",
    "    \n",
    "    # Move tokenized text to device\n",
    "    tokenized_text = {k: v.to(device) for k, v in tokenized_text.items()}\n",
    "    \n",
    "    # Generate prediction\n",
    "    with torch.no_grad(): \n",
    "        outputs = bert_model(\n",
    "            input_ids=tokenized_text['input_ids'],\n",
    "            attention_mask=tokenized_text['attention_mask']\n",
    "        )\n",
    "        predicted_label = torch.argmax(outputs.logits, dim=1)\n",
    "\n",
    "    # Encode predicted output (int) to focus group label (str)\n",
    "    reverse_focus_map = {0:\"Neurological & Cognitive Disorders\",\n",
    "                         1:\"Cancers\",\n",
    "                         2:\"Cardiovascular Diseases\",\n",
    "                         3:\"Metabolic & Endocrine Disorders\",\n",
    "                         4:\"Other Age-Related & Immune Disorders\"\n",
    "                }\n",
    "    predicted_focus = reverse_focus_map[predicted_label.cpu().item()]\n",
    "    return predicted_focus"
   ]
  },
  {
   "cell_type": "markdown",
   "id": "e70f9add-24d2-40f5-affe-adb3d9a5012f",
   "metadata": {},
   "source": [
    "**Classify Example Text**"
   ]
  },
  {
   "cell_type": "code",
   "execution_count": 52,
   "id": "118a54a5-c766-4300-9a86-f4f953ae2b97",
   "metadata": {},
   "outputs": [
    {
     "data": {
      "text/plain": [
       "'Neurological & Cognitive Disorders'"
      ]
     },
     "execution_count": 52,
     "metadata": {},
     "output_type": "execute_result"
    }
   ],
   "source": [
    "example_text = '''The patient displays progressive deterioration of cognitive abilities affecting memory, thinking, language, and judgment. Family members report personality changes and difficulty with daily activities. \n",
    "Imaging studies show cortical atrophy and enlarged ventricles. Laboratory tests rule out vitamin deficiencies, thyroid disorders, and other reversible causes of cognitive decline. \n",
    "Treatment focuses on symptom management and maintaining quality of life through cholinesterase inhibitors and environmental modifications.'''\n",
    "\n",
    "biomedbert_classify_text(example_text)"
   ]
  },
  {
   "cell_type": "code",
   "execution_count": null,
   "id": "58197a0b-36e1-4430-b018-444e94402380",
   "metadata": {},
   "outputs": [],
   "source": []
  },
  {
   "cell_type": "markdown",
   "id": "3004c513-73e2-44f0-9e04-fbec403caa53",
   "metadata": {},
   "source": [
    "#### Conclusion\n",
    "\n",
    "In conclusion, our project successfully developed neural networks to classify health-related medical text into focus area groups. Specifically, fine-tuning a specialized BiomedBERT offers a near-perfect solution for this classification task. This demonstrates the potential for machine learning as a viable tool to assist medical professionals in the tedious and time-consuming task of labeling medical information.\n",
    "\n",
    "Future work could explore using different model architectures, dataset balancing techniques, collecting more data, and applying more rigorous testing/validation strategies. Remember, these models are not intended for real-world medical applications and should not be relied upon for diagnosing, predicting, or managing diabetes or any other health outcomes. Any health-related decisions should always be made with the guidance of a qualified healthcare professional! "
   ]
  },
  {
   "cell_type": "code",
   "execution_count": null,
   "id": "487e496a-3341-45bf-b605-8fcd6c88bd97",
   "metadata": {},
   "outputs": [],
   "source": []
  }
 ],
 "metadata": {
  "kernelspec": {
   "display_name": "Python 3 (ipykernel)",
   "language": "python",
   "name": "python3"
  },
  "language_info": {
   "codemirror_mode": {
    "name": "ipython",
    "version": 3
   },
   "file_extension": ".py",
   "mimetype": "text/x-python",
   "name": "python",
   "nbconvert_exporter": "python",
   "pygments_lexer": "ipython3",
   "version": "3.10.16"
  }
 },
 "nbformat": 4,
 "nbformat_minor": 5
}
