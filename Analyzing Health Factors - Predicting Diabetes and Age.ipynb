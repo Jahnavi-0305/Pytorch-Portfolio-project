{
 "cells": [
  {
   "cell_type": "markdown",
   "id": "06fbc6f8-cee9-490c-9397-9369cd1c5e27",
   "metadata": {},
   "source": [
    "## Analyzing Health Factors: Predicting Diabetes and Age\n",
    "\n",
    "In this project, we'll explore how various health-related factors contribute to two important outcomes: diabetes and an individual's age. We'll use a subset of a real-world dataset from the CDC ([available here](https://www.kaggle.com/datasets/cdc/behavioral-risk-factor-surveillance-system)) that contains medical and lifestyle information of adults in the United States. Specifically, the dataset was collected by the Behavioral Risk Factor Surveillance System (BRFSS), which conducts health-related telephone surveys across all 50 states and other US territories.\n",
    "\n",
    "The goal of this project is to build and train neural networks with PyTorch for the following tasks:\n",
    "\n",
    "🎯 **1. Classification to Predict Diabetes** \n",
    "\n",
    "- Chronic diseases like diabetes are among the leading causes of death worldwide. Early detection is crucial for timely intervention to allow health professionals to provide treatments such as lifestyle modification, prescribing medication, and resource planning. By building a classification model to predict diabetes using easily measurable health factors obtained via telephone screening, we hope to assist health professionals in identifying individuals who may be at high risk of developing diabetes before a formal diagnosis. \n",
    "\n",
    "\n",
    "📅 **2. Regression to Predict Age** \n",
    "\n",
    "- Predicting one's age can offer valuable insights into how medical and lifestyle factors correlate with _biological aging_ patterns. Differences between one's predicted age and actual age may provide signals of underlying health issues that result in accelerated aging.\n",
    "\n",
    "Together, these predictive tasks can offer insights into how machine learning models can assist health professionals in detecting diseases and health problems early on, creating timely treatment plans, and improving health outcomes.\n",
    "\n",
    "**Note:** The models and analyses in this project notebook are built and trained on a limited dataset that may not be generalized well to the broader population or clinical settings. Therefore, the models are not intended for real-world medical applications and should not be relied upon for diagnosing, predicting, or managing diabetes or any other health outcomes. Any health-related decisions should always be made with the guidance of a qualified healthcare professional!\n",
    "\n",
    "#### Dataset Column Summary\n",
    "\n",
    "- **Diabetes:** Whether the individual has \"No Diabetes\", \"Prediabetes\", or \"Diabetes\"\n",
    "- **HighBP:** Whether the individual has high blood pressure (\"Yes\" or \"No\")\n",
    "- **HighChol:** Whether the individual has high cholesterol (\"Yes\" or \"No\")\n",
    "- **CholCheck:** Whether the individual had their cholesterol checked in the past 5 years (\"Yes\" or \"No\")\n",
    "- **BMI:** Body Mass Index, a measure of body fat based on height and weight\n",
    "- **Smoker:** Whether the individual is a current smoker (\"Yes\" or \"No\")\n",
    "- **Stroke:** Whether the individual has ever had a stroke (\"Yes\" or \"No\")\n",
    "- **HeartDiseaseorAttack:** Whether the individual has ever had coronary heart disease or a heart attack (\"Yes\" or \"No\")\n",
    "- **PhysActivity:** Whether the individual engaged in physical activity in the past 30 days (\"Yes\" or \"No\")\n",
    "- **Fruits:** Whether the individual consumes fruits at least once per day (\"Yes\" or \"No\")\n",
    "- **Veggies:** Whether the individual consumes vegetables at least once per day (\"Yes\" or \"No\")\n",
    "- **HvyAlcoholConsump:** Heavy alcohol consumption indicator (\"Yes\" or \"No\")\n",
    "- **AnyHealthcare:** Whether the individual has any form of healthcare coverage (\"Yes\" or \"No\")\n",
    "- **NoDocbcCost:** Whether the individual could not see a doctor in the past year because of cost (\"Yes\" or \"No\")\n",
    "- **GenHlth:** General health status reported on a 1–5 scale (1 = excellent, 5 = poor)\n",
    "- **MentHlth:** Number of days mental health was not good during the past 30 days\n",
    "- **PhysHlth:** Number of days physical health was not good during the past 30 days\n",
    "- **DiffWalk:** Whether the individual has serious difficulty walking or climbing stairs (\"Yes\" or \"No\")\n",
    "- **Sex:** Female or Male\n",
    "- **Age:** Age group of the individual (13-level group)\n",
    "- **Education:** Education level attained \n",
    "- **Income:** Income category of the individual\n"
   ]
  },
  {
   "cell_type": "markdown",
   "id": "ba31f90b-bfcf-43cf-88c0-1926a68a63ca",
   "metadata": {},
   "source": [
    "#### Import Libraries"
   ]
  },
  {
   "cell_type": "code",
   "execution_count": 1,
   "id": "d6c4888e-da96-40dc-be20-c80d2f0cfd62",
   "metadata": {},
   "outputs": [],
   "source": [
    "import pandas as pd\n",
    "import numpy as np\n",
    "\n",
    "import seaborn as sns\n",
    "sns.set(style='whitegrid', palette='Paired')\n",
    "import matplotlib.pyplot as plt\n",
    "%matplotlib inline"
   ]
  },
  {
   "cell_type": "markdown",
   "id": "794a728e-554e-4ff9-b1a5-93c30efb34a6",
   "metadata": {},
   "source": [
    "#### Load and Inspect Data"
   ]
  },
  {
   "cell_type": "code",
   "execution_count": null,
   "id": "b635233e-56f2-42ae-ad77-406b40135f50",
   "metadata": {},
   "outputs": [
    {
     "data": {
      "text/html": [
       "<div>\n",
       "<style scoped>\n",
       "    .dataframe tbody tr th:only-of-type {\n",
       "        vertical-align: middle;\n",
       "    }\n",
       "\n",
       "    .dataframe tbody tr th {\n",
       "        vertical-align: top;\n",
       "    }\n",
       "\n",
       "    .dataframe thead th {\n",
       "        text-align: right;\n",
       "    }\n",
       "</style>\n",
       "<table border=\"1\" class=\"dataframe\">\n",
       "  <thead>\n",
       "    <tr style=\"text-align: right;\">\n",
       "      <th></th>\n",
       "      <th>HighBP</th>\n",
       "      <th>HighChol</th>\n",
       "      <th>CholCheck</th>\n",
       "      <th>BMI</th>\n",
       "      <th>Smoker</th>\n",
       "      <th>Stroke</th>\n",
       "      <th>HeartDiseaseorAttack</th>\n",
       "      <th>PhysActivity</th>\n",
       "      <th>Fruits</th>\n",
       "      <th>Veggies</th>\n",
       "      <th>...</th>\n",
       "      <th>NoDocbcCost</th>\n",
       "      <th>GenHlth</th>\n",
       "      <th>MentHlth</th>\n",
       "      <th>PhysHlth</th>\n",
       "      <th>DiffWalk</th>\n",
       "      <th>Sex</th>\n",
       "      <th>Age</th>\n",
       "      <th>Education</th>\n",
       "      <th>Income</th>\n",
       "      <th>Diabetes</th>\n",
       "    </tr>\n",
       "  </thead>\n",
       "  <tbody>\n",
       "    <tr>\n",
       "      <th>0</th>\n",
       "      <td>Yes</td>\n",
       "      <td>Yes</td>\n",
       "      <td>Yes</td>\n",
       "      <td>40.0</td>\n",
       "      <td>Yes</td>\n",
       "      <td>No</td>\n",
       "      <td>No</td>\n",
       "      <td>No</td>\n",
       "      <td>No</td>\n",
       "      <td>Yes</td>\n",
       "      <td>...</td>\n",
       "      <td>No</td>\n",
       "      <td>5.0</td>\n",
       "      <td>18.0</td>\n",
       "      <td>15.0</td>\n",
       "      <td>Yes</td>\n",
       "      <td>Female</td>\n",
       "      <td>60-64</td>\n",
       "      <td>Grade 12 or GED (High school graduate)</td>\n",
       "      <td>Less than $20,000</td>\n",
       "      <td>No Diabetes</td>\n",
       "    </tr>\n",
       "    <tr>\n",
       "      <th>1</th>\n",
       "      <td>No</td>\n",
       "      <td>No</td>\n",
       "      <td>No</td>\n",
       "      <td>25.0</td>\n",
       "      <td>Yes</td>\n",
       "      <td>No</td>\n",
       "      <td>No</td>\n",
       "      <td>Yes</td>\n",
       "      <td>No</td>\n",
       "      <td>No</td>\n",
       "      <td>...</td>\n",
       "      <td>Yes</td>\n",
       "      <td>3.0</td>\n",
       "      <td>0.0</td>\n",
       "      <td>0.0</td>\n",
       "      <td>No</td>\n",
       "      <td>Female</td>\n",
       "      <td>50-54</td>\n",
       "      <td>College 4+ years (College graduate)</td>\n",
       "      <td>Less than $10,000</td>\n",
       "      <td>No Diabetes</td>\n",
       "    </tr>\n",
       "    <tr>\n",
       "      <th>2</th>\n",
       "      <td>Yes</td>\n",
       "      <td>Yes</td>\n",
       "      <td>Yes</td>\n",
       "      <td>28.0</td>\n",
       "      <td>No</td>\n",
       "      <td>No</td>\n",
       "      <td>No</td>\n",
       "      <td>No</td>\n",
       "      <td>Yes</td>\n",
       "      <td>No</td>\n",
       "      <td>...</td>\n",
       "      <td>Yes</td>\n",
       "      <td>5.0</td>\n",
       "      <td>30.0</td>\n",
       "      <td>30.0</td>\n",
       "      <td>Yes</td>\n",
       "      <td>Female</td>\n",
       "      <td>60-64</td>\n",
       "      <td>Grade 12 or GED (High school graduate)</td>\n",
       "      <td>$75,000 or more</td>\n",
       "      <td>No Diabetes</td>\n",
       "    </tr>\n",
       "    <tr>\n",
       "      <th>3</th>\n",
       "      <td>Yes</td>\n",
       "      <td>No</td>\n",
       "      <td>Yes</td>\n",
       "      <td>27.0</td>\n",
       "      <td>No</td>\n",
       "      <td>No</td>\n",
       "      <td>No</td>\n",
       "      <td>Yes</td>\n",
       "      <td>Yes</td>\n",
       "      <td>Yes</td>\n",
       "      <td>...</td>\n",
       "      <td>No</td>\n",
       "      <td>2.0</td>\n",
       "      <td>0.0</td>\n",
       "      <td>0.0</td>\n",
       "      <td>No</td>\n",
       "      <td>Female</td>\n",
       "      <td>70-74</td>\n",
       "      <td>Grades 9-11 (Some high school)</td>\n",
       "      <td>Less than $50,000</td>\n",
       "      <td>No Diabetes</td>\n",
       "    </tr>\n",
       "    <tr>\n",
       "      <th>4</th>\n",
       "      <td>Yes</td>\n",
       "      <td>Yes</td>\n",
       "      <td>Yes</td>\n",
       "      <td>24.0</td>\n",
       "      <td>No</td>\n",
       "      <td>No</td>\n",
       "      <td>No</td>\n",
       "      <td>Yes</td>\n",
       "      <td>Yes</td>\n",
       "      <td>Yes</td>\n",
       "      <td>...</td>\n",
       "      <td>No</td>\n",
       "      <td>2.0</td>\n",
       "      <td>3.0</td>\n",
       "      <td>0.0</td>\n",
       "      <td>No</td>\n",
       "      <td>Female</td>\n",
       "      <td>70-74</td>\n",
       "      <td>College 1-3 years (Some college/technical school)</td>\n",
       "      <td>Less than $25,000</td>\n",
       "      <td>No Diabetes</td>\n",
       "    </tr>\n",
       "  </tbody>\n",
       "</table>\n",
       "<p>5 rows × 22 columns</p>\n",
       "</div>"
      ],
      "text/plain": [
       "  HighBP HighChol CholCheck   BMI Smoker Stroke HeartDiseaseorAttack  \\\n",
       "0    Yes      Yes       Yes  40.0    Yes     No                   No   \n",
       "1     No       No        No  25.0    Yes     No                   No   \n",
       "2    Yes      Yes       Yes  28.0     No     No                   No   \n",
       "3    Yes       No       Yes  27.0     No     No                   No   \n",
       "4    Yes      Yes       Yes  24.0     No     No                   No   \n",
       "\n",
       "  PhysActivity Fruits Veggies  ... NoDocbcCost GenHlth MentHlth  PhysHlth  \\\n",
       "0           No     No     Yes  ...          No     5.0     18.0      15.0   \n",
       "1          Yes     No      No  ...         Yes     3.0      0.0       0.0   \n",
       "2           No    Yes      No  ...         Yes     5.0     30.0      30.0   \n",
       "3          Yes    Yes     Yes  ...          No     2.0      0.0       0.0   \n",
       "4          Yes    Yes     Yes  ...          No     2.0      3.0       0.0   \n",
       "\n",
       "   DiffWalk     Sex    Age                                          Education  \\\n",
       "0       Yes  Female  60-64             Grade 12 or GED (High school graduate)   \n",
       "1        No  Female  50-54                College 4+ years (College graduate)   \n",
       "2       Yes  Female  60-64             Grade 12 or GED (High school graduate)   \n",
       "3        No  Female  70-74                     Grades 9-11 (Some high school)   \n",
       "4        No  Female  70-74  College 1-3 years (Some college/technical school)   \n",
       "\n",
       "              Income     Diabetes  \n",
       "0  Less than $20,000  No Diabetes  \n",
       "1  Less than $10,000  No Diabetes  \n",
       "2    $75,000 or more  No Diabetes  \n",
       "3  Less than $50,000  No Diabetes  \n",
       "4  Less than $25,000  No Diabetes  \n",
       "\n",
       "[5 rows x 22 columns]"
      ]
     },
     "execution_count": 2,
     "metadata": {},
     "output_type": "execute_result"
    }
   ],
   "source": [
    "diabetes_data = pd.read_csv(\"datasets/diabetes_BRFSS2015.csv\")\n",
    "diabetes_data.head()"
   ]
  },
  {
   "cell_type": "code",
   "execution_count": null,
   "id": "2e98db66-b586-453d-bb48-848ef31d937e",
   "metadata": {},
   "outputs": [
    {
     "name": "stdout",
     "output_type": "stream",
     "text": [
      "<class 'pandas.core.frame.DataFrame'>\n",
      "RangeIndex: 253680 entries, 0 to 253679\n",
      "Data columns (total 22 columns):\n",
      " #   Column                Non-Null Count   Dtype  \n",
      "---  ------                --------------   -----  \n",
      " 0   HighBP                253680 non-null  object \n",
      " 1   HighChol              253680 non-null  object \n",
      " 2   CholCheck             253680 non-null  object \n",
      " 3   BMI                   253680 non-null  float64\n",
      " 4   Smoker                253680 non-null  object \n",
      " 5   Stroke                253680 non-null  object \n",
      " 6   HeartDiseaseorAttack  253680 non-null  object \n",
      " 7   PhysActivity          253680 non-null  object \n",
      " 8   Fruits                253680 non-null  object \n",
      " 9   Veggies               253680 non-null  object \n",
      " 10  HvyAlcoholConsump     253680 non-null  object \n",
      " 11  AnyHealthcare         253680 non-null  object \n",
      " 12  NoDocbcCost           253680 non-null  object \n",
      " 13  GenHlth               253680 non-null  float64\n",
      " 14  MentHlth              253680 non-null  float64\n",
      " 15  PhysHlth              253680 non-null  float64\n",
      " 16  DiffWalk              253680 non-null  object \n",
      " 17  Sex                   253680 non-null  object \n",
      " 18  Age                   253680 non-null  object \n",
      " 19  Education             253680 non-null  object \n",
      " 20  Income                253680 non-null  object \n",
      " 21  Diabetes              253680 non-null  object \n",
      "dtypes: float64(4), object(18)\n",
      "memory usage: 42.6+ MB\n"
     ]
    }
   ],
   "source": [
    "diabetes_data.info()"
   ]
  },
  {
   "cell_type": "markdown",
   "id": "ed0062d7-bc7c-48d8-b084-4393d2a33653",
   "metadata": {},
   "source": [
    "#### Data Exploration and Visualization"
   ]
  },
  {
   "cell_type": "markdown",
   "id": "6e75dc50-0e10-4653-bfff-277463fdd84f",
   "metadata": {},
   "source": [
    "Let's first count and visualize the diabetes status of all the people in the dataset (that includes no diabetes, prediabetes, and diabetes)."
   ]
  },
  {
   "cell_type": "code",
   "execution_count": null,
   "id": "495a3ddd-6161-4e19-8472-8ceea5abfd1b",
   "metadata": {},
   "outputs": [
    {
     "data": {
      "image/png": "[encoded data removed]",
      "text/plain": [
       "<Figure size 640x480 with 1 Axes>"
      ]
     },
     "metadata": {},
     "output_type": "display_data"
    },
    {
     "name": "stdout",
     "output_type": "stream",
     "text": [
      "Diabetes\n",
      "No Diabetes    213703\n",
      "Diabetes        35346\n",
      "Prediabetes      4631\n",
      "Name: count, dtype: int64\n",
      "\n",
      "Diabetes\n",
      "No Diabetes    0.842412\n",
      "Diabetes       0.139333\n",
      "Prediabetes    0.018255\n",
      "Name: proportion, dtype: float64\n"
     ]
    }
   ],
   "source": [
    "# Plot Diabetes Status\n",
    "sns.countplot(x='Diabetes', data=diabetes_data)\n",
    "plt.title('Diabetes Status')\n",
    "plt.show()\n",
    "\n",
    "print(diabetes_data['Diabetes'].value_counts(0))\n",
    "print()\n",
    "print(diabetes_data['Diabetes'].value_counts(1))"
   ]
  },
  {
   "cell_type": "markdown",
   "id": "940f81ac-c71d-4ef6-bd44-c77f7451feee",
   "metadata": {},
   "source": [
    "Of the 253,680 people surveyed in this dataset, about **13.9%** have diabetes, and 1.8% have prediabetes. \n",
    "\n",
    "Importantly, these percentages do not fully reflect the true real-world statistic. Per the CDC as of 2021, about 38.4 million people (11.6%) in the US have diabetes."
   ]
  },
  {
   "cell_type": "markdown",
   "id": "37e8e10e-bab7-4514-8828-c234d36fe832",
   "metadata": {},
   "source": [
    "For this project, we'll specifically be building a binary classifier that predicts whether or not a person will develop diabetes, so we'll drop the rows for those labeled as prediabetic.\n",
    "\n",
    "**Note:** In future work, we can train a multi-class classifier to predict all three categories!"
   ]
  },
  {
   "cell_type": "code",
   "execution_count": null,
   "id": "0ef5dd8f-20fc-4c50-b302-7813780272bc",
   "metadata": {},
   "outputs": [],
   "source": [
    "# Remove individuals with prediabetes\n",
    "diabetes_data = diabetes_data[diabetes_data['Diabetes'] != 'Prediabetes']"
   ]
  },
  {
   "cell_type": "code",
   "execution_count": null,
   "id": "a1cb5cd6-e24b-4632-8a25-3e108551a89a",
   "metadata": {},
   "outputs": [],
   "source": [
    "# Binary encode `Diabetes` column - {'No Diabetes':0, 'Diabetes':1}\n",
    "diabetes_data['Diabetes'] = diabetes_data['Diabetes'].replace({'No Diabetes':0, 'Diabetes':1})"
   ]
  },
  {
   "cell_type": "code",
   "execution_count": null,
   "id": "3f3b6fe7-ba59-4158-b248-c583167f50ef",
   "metadata": {},
   "outputs": [],
   "source": []
  },
  {
   "cell_type": "markdown",
   "id": "f7d01bae-b917-434a-9ba3-f72f3948b64f",
   "metadata": {},
   "source": [
    "Next, let's explore the prevalence of diabetes across different groups.\n",
    "\n",
    "**Diabetes Status by Sex**"
   ]
  },
  {
   "cell_type": "code",
   "execution_count": null,
   "id": "f4961400-6e2c-4b04-9cf0-0eb2cc8a3179",
   "metadata": {},
   "outputs": [
    {
     "data": {
      "image/png": "[encoded data removed]",
      "text/plain": [
       "<Figure size 640x480 with 1 Axes>"
      ]
     },
     "metadata": {},
     "output_type": "display_data"
    },
    {
     "data": {
      "text/plain": [
       "Sex\n",
       "Female    0.132102\n",
       "Male      0.154405\n",
       "Name: Diabetes, dtype: float64"
      ]
     },
     "execution_count": 7,
     "metadata": {},
     "output_type": "execute_result"
    }
   ],
   "source": [
    "# Plot Diabetes Status by Sex\n",
    "sns.countplot(x='Sex', hue='Diabetes', data=diabetes_data)\n",
    "plt.title('Diabetes Status by Sex')\n",
    "plt.show()\n",
    "\n",
    "# Calculate percentage of Diabetes Status by Sex\n",
    "diabetes_data.groupby('Sex')['Diabetes'].mean()"
   ]
  },
  {
   "cell_type": "markdown",
   "id": "f5f0bb93-88b0-479d-a634-74a15553c9c8",
   "metadata": {},
   "source": [
    "It looks like the prevalence of diabetes is slightly higher in males than females:\n",
    "- 15.4% of males have diabetes\n",
    "- 13.2% of females have diabetes"
   ]
  },
  {
   "cell_type": "markdown",
   "id": "e2999ac1-a11b-4a95-baf1-052073e49dab",
   "metadata": {},
   "source": [
    "**Diabetes Status by Age Group**"
   ]
  },
  {
   "cell_type": "code",
   "execution_count": null,
   "id": "801db04d-b831-4123-bcb1-78e7f73a093d",
   "metadata": {},
   "outputs": [
    {
     "data": {
      "image/png": "[encoded data removed]",
      "text/plain": [
       "<Figure size 1000x400 with 1 Axes>"
      ]
     },
     "metadata": {},
     "output_type": "display_data"
    },
    {
     "data": {
      "text/plain": [
       "Age\n",
       "18-24    0.013735\n",
       "25-29    0.018558\n",
       "30-34    0.028414\n",
       "35-39    0.045757\n",
       "40-44    0.065712\n",
       "45-49    0.089301\n",
       "50-54    0.119246\n",
       "55-59    0.140777\n",
       "60-64    0.176172\n",
       "65-69    0.208210\n",
       "70-74    0.224194\n",
       "75-79    0.219054\n",
       "80+      0.189769\n",
       "Name: Diabetes, dtype: float64"
      ]
     },
     "execution_count": 8,
     "metadata": {},
     "output_type": "execute_result"
    }
   ],
   "source": [
    "# Set the figure size\n",
    "plt.figure(figsize=(10, 4))\n",
    "\n",
    "# Plot Diabetes Status by Age Group and Sex\n",
    "age_order = ['18-24', '25-29', '30-34', '35-39', '40-44', '45-49', '50-54', '55-59', '60-64', '65-69', '70-74', '75-79', '80+']\n",
    "sns.countplot(x='Age', hue='Diabetes', data=diabetes_data, order=age_order)\n",
    "plt.title('Diabetes Status by Age Group and Sex')\n",
    "plt.xticks(rotation=45)\n",
    "plt.show()\n",
    "\n",
    "# Calculate percentage of diabetes by age group\n",
    "diabetes_data.groupby('Age')['Diabetes'].mean()"
   ]
  },
  {
   "cell_type": "markdown",
   "id": "cc29c83b-7ea7-42cf-9cb0-7664810567fd",
   "metadata": {},
   "source": [
    "Interestingly, it looks like there is a steady _increase_ in the prevalence of diabetes with age:\n",
    "\n",
    "1. There is an increase in prevalence acceleration around middle age, starting from **30-34** (4.6%) to **60-64** (17.6%).\n",
    "    - We know that insulin resistance and metabolic syndrome typically develop over decades, starting in your ~30s.\n",
    "2. There is a peak in older adults around **70-74** (22.4%)\n",
    "3. There is a slight decrease in the oldest group, **80+** (19.0%), which might be attributed to:\n",
    "    - Survivorship bias: individuals who live past 80 may generally be healthier\n",
    "    - Selective mortality: individuals with severe chronic illnesses may have already passed away before 80\n",
    "    - Unequal bin sizing: the oldest group **80+** may include individuals over 85, 90, 100+!"
   ]
  },
  {
   "cell_type": "markdown",
   "id": "27b03d9e-9845-48cb-8f15-f56dda27f2ef",
   "metadata": {},
   "source": [
    "**Diabetes Status by High Blood Pressure**"
   ]
  },
  {
   "cell_type": "code",
   "execution_count": null,
   "id": "0fd1ef2e-e78d-4535-8b98-05280b906232",
   "metadata": {},
   "outputs": [
    {
     "data": {
      "image/png": "[encoded data removed]",
      "text/plain": [
       "<Figure size 640x480 with 1 Axes>"
      ]
     },
     "metadata": {},
     "output_type": "display_data"
    },
    {
     "data": {
      "text/plain": [
       "HighBP\n",
       "No     0.061076\n",
       "Yes    0.251180\n",
       "Name: Diabetes, dtype: float64"
      ]
     },
     "execution_count": 9,
     "metadata": {},
     "output_type": "execute_result"
    }
   ],
   "source": [
    "# Plot Diabetes Status by High Blood Pressure\n",
    "sns.countplot(x='HighBP', hue='Diabetes', data=diabetes_data)\n",
    "plt.title('Diabetes Status by High Blood Pressure')\n",
    "plt.show()\n",
    "\n",
    "# Calculate percentage of Diabetes Status by High Blood Pressure\n",
    "diabetes_data.groupby('HighBP')['Diabetes'].mean()"
   ]
  },
  {
   "cell_type": "markdown",
   "id": "54125f30-39a6-4208-a3cc-b4750108ad2a",
   "metadata": {},
   "source": [
    "The high blood pressure data shows a strong association with diabetes:\n",
    "- 25.1% of individuals with high blood pressure have diabetes\n",
    "- 6% of individuals without high blood pressure have diabetes\n",
    "\n",
    "This is expected as there are many research studies that suggest high blood pressure and diabetes are closely linked. "
   ]
  },
  {
   "cell_type": "markdown",
   "id": "2950c4de-a837-4db8-92ce-9682531a2f92",
   "metadata": {},
   "source": [
    "**Diabetes by Healthcare Coverage**"
   ]
  },
  {
   "cell_type": "code",
   "execution_count": null,
   "id": "e423f61b-a465-4b41-98ab-f037498663f6",
   "metadata": {},
   "outputs": [
    {
     "data": {
      "image/png": "[encoded data removed]",
      "text/plain": [
       "<Figure size 640x480 with 1 Axes>"
      ]
     },
     "metadata": {},
     "output_type": "display_data"
    },
    {
     "name": "stdout",
     "output_type": "stream",
     "text": [
      "AnyHealthcare\n",
      "Yes    0.951162\n",
      "No     0.048838\n",
      "Name: proportion, dtype: float64\n"
     ]
    },
    {
     "data": {
      "text/plain": [
       "AnyHealthcare\n",
       "No     0.116912\n",
       "Yes    0.143208\n",
       "Name: Diabetes, dtype: float64"
      ]
     },
     "execution_count": 10,
     "metadata": {},
     "output_type": "execute_result"
    }
   ],
   "source": [
    "# Plot Diabetes Status by Healthcare Coverage\n",
    "sns.countplot(x='AnyHealthcare', hue='Diabetes', data=diabetes_data)\n",
    "plt.title('Diabetes Status by Healthcare Coverage')\n",
    "plt.show()\n",
    "\n",
    "# Calculate percentage of diabetes by sex\n",
    "print(diabetes_data['AnyHealthcare'].value_counts(1))\n",
    "diabetes_data.groupby('AnyHealthcare')['Diabetes'].mean()"
   ]
  },
  {
   "cell_type": "markdown",
   "id": "de06a107-9c35-4197-92e0-6b043cf10f8f",
   "metadata": {},
   "source": [
    "There is a significantly higher number of individuals with healthcare than without healthcare coverage (95.1% vs 4.9%). But interestingly, it looks there is a slight increase in the prevalence of diabetes in those with healthcare coverage:\n",
    "- 11.7% of individuals without healthcare coverage have diabetes\n",
    "- 14.3% of individuals with healthcare coverage have diabetes\n",
    "\n",
    "You might think that people _without_ healthcare would have _higher_ diabetes rates because of less access to preventative care. But this actually makes sense for a few reasons:\n",
    "- People with healthcare are more likely to be screened for diabetes\n",
    "    - No healthcare coverage ==> less likely to be screened ==> may have diabetes but not know it\n",
    "- People with chronic illnesses are likely to seek out healthcare (and get screened for diabetes)"
   ]
  },
  {
   "cell_type": "markdown",
   "id": "cd85c178-f1bc-4d90-9bbf-3b3b7aa25942",
   "metadata": {},
   "source": [
    "**Diabetes Status by Other Binary Factors**\n",
    "\n",
    "Other binary factors to consider: `['HighChol', 'CholCheck', 'Smoker', 'Stroke', 'HeartDiseaseorAttack', 'PhysActivity', 'Fruits', 'Veggies', 'HvyAlcoholConsump']`."
   ]
  },
  {
   "cell_type": "code",
   "execution_count": null,
   "id": "9a3098be-d96c-412b-b51d-63db9c682d65",
   "metadata": {},
   "outputs": [
    {
     "data": {
      "image/png": "[encoded data removed]",
      "text/plain": [
       "<Figure size 1000x300 with 1 Axes>"
      ]
     },
     "metadata": {},
     "output_type": "display_data"
    },
    {
     "data": {
      "text/html": [
       "<div>\n",
       "<style scoped>\n",
       "    .dataframe tbody tr th:only-of-type {\n",
       "        vertical-align: middle;\n",
       "    }\n",
       "\n",
       "    .dataframe tbody tr th {\n",
       "        vertical-align: top;\n",
       "    }\n",
       "\n",
       "    .dataframe thead th {\n",
       "        text-align: right;\n",
       "    }\n",
       "</style>\n",
       "<table border=\"1\" class=\"dataframe\">\n",
       "  <thead>\n",
       "    <tr style=\"text-align: right;\">\n",
       "      <th></th>\n",
       "      <th>Diabetes Percentage</th>\n",
       "    </tr>\n",
       "  </thead>\n",
       "  <tbody>\n",
       "    <tr>\n",
       "      <th>HeartDiseaseorAttack</th>\n",
       "      <td>0.339145</td>\n",
       "    </tr>\n",
       "    <tr>\n",
       "      <th>Stroke</th>\n",
       "      <td>0.325920</td>\n",
       "    </tr>\n",
       "    <tr>\n",
       "      <th>HighChol</th>\n",
       "      <td>0.226193</td>\n",
       "    </tr>\n",
       "    <tr>\n",
       "      <th>Smoker</th>\n",
       "      <td>0.166305</td>\n",
       "    </tr>\n",
       "    <tr>\n",
       "      <th>CholCheck</th>\n",
       "      <td>0.146490</td>\n",
       "    </tr>\n",
       "    <tr>\n",
       "      <th>Veggies</th>\n",
       "      <td>0.132173</td>\n",
       "    </tr>\n",
       "    <tr>\n",
       "      <th>Fruits</th>\n",
       "      <td>0.130878</td>\n",
       "    </tr>\n",
       "    <tr>\n",
       "      <th>PhysActivity</th>\n",
       "      <td>0.118059</td>\n",
       "    </tr>\n",
       "    <tr>\n",
       "      <th>HvyAlcoholConsump</th>\n",
       "      <td>0.059226</td>\n",
       "    </tr>\n",
       "  </tbody>\n",
       "</table>\n",
       "</div>"
      ],
      "text/plain": [
       "                      Diabetes Percentage\n",
       "HeartDiseaseorAttack             0.339145\n",
       "Stroke                           0.325920\n",
       "HighChol                         0.226193\n",
       "Smoker                           0.166305\n",
       "CholCheck                        0.146490\n",
       "Veggies                          0.132173\n",
       "Fruits                           0.130878\n",
       "PhysActivity                     0.118059\n",
       "HvyAlcoholConsump                0.059226"
      ]
     },
     "execution_count": 11,
     "metadata": {},
     "output_type": "execute_result"
    }
   ],
   "source": [
    "import matplotlib.pyplot as plt\n",
    "import seaborn as sns\n",
    "\n",
    "binary_features = ['HighChol', 'CholCheck', 'Smoker', 'Stroke', 'HeartDiseaseorAttack', \n",
    "                   'PhysActivity', 'Fruits', 'Veggies', 'HvyAlcoholConsump']\n",
    "\n",
    "# Calculate percentages of diabetes by binary factor\n",
    "diabetes_rates = {}\n",
    "for feature in binary_features:\n",
    "    rate = diabetes_data.groupby(feature)['Diabetes'].mean()[1] \n",
    "    diabetes_rates[feature] = rate\n",
    "\n",
    "rate_df = pd.DataFrame(list(diabetes_rates.items()), columns=['Feature', 'DiabetesRate'])\n",
    "\n",
    "# Plot Diabetes Rate by Binary Feature\n",
    "plt.figure(figsize=(10,3))\n",
    "sns.barplot(x='Feature', y='DiabetesRate', data=rate_df)\n",
    "plt.title('Diabetes Rate by Binary Features')\n",
    "plt.xticks(rotation=45)\n",
    "plt.show()\n",
    "\n",
    "# Print table of percentages\n",
    "diabetes_percentage_table = pd.DataFrame.from_dict(diabetes_rates, orient='index', columns=['Diabetes Percentage'])\n",
    "diabetes_percentage_table = diabetes_percentage_table.sort_values(by='Diabetes Percentage', ascending=False)\n",
    "diabetes_percentage_table"
   ]
  },
  {
   "cell_type": "markdown",
   "id": "7a2c07df-9167-4fdf-b13c-7dc552dba8c4",
   "metadata": {},
   "source": [
    "There are a lot of clinical patterns uncovered here:\n",
    "- The highest diabetes prevalence is among individuals who have heart disease/attack (33.9%) or stroke (32.6%)\n",
    "- 22.6% of individuals with high cholesterol have diabetes\n",
    "    - interestingly, only 14.6% of individuals who've had their cholesterol levels checked have diabetes \n",
    "- 16.6% of individuals who identified themselves as smokers have diabetes\n",
    "- The lowest diabetes prevalence is among individuals who regularly eat veggies (13.2%), fruits (13.1%), and perform physical activity (11.8%)\n",
    "- Surprisingly, only 5.9% of individuals who identified themselves as heavy alcohol consumers have diabetes"
   ]
  },
  {
   "cell_type": "markdown",
   "id": "c8036c26-b19e-4240-81dc-bf91217226f5",
   "metadata": {},
   "source": [
    "**Diabetes Status by BMI**"
   ]
  },
  {
   "cell_type": "code",
   "execution_count": null,
   "id": "30123c67-f9be-437c-8736-f361cd864399",
   "metadata": {},
   "outputs": [
    {
     "data": {
      "image/png": "[encoded data removed]",
      "text/plain": [
       "<Figure size 1400x600 with 2 Axes>"
      ]
     },
     "metadata": {},
     "output_type": "display_data"
    },
    {
     "name": "stdout",
     "output_type": "stream",
     "text": [
      "BMI Summary Statistics by Diabetes Status\n"
     ]
    },
    {
     "data": {
      "text/html": [
       "<div>\n",
       "<style scoped>\n",
       "    .dataframe tbody tr th:only-of-type {\n",
       "        vertical-align: middle;\n",
       "    }\n",
       "\n",
       "    .dataframe tbody tr th {\n",
       "        vertical-align: top;\n",
       "    }\n",
       "\n",
       "    .dataframe thead th {\n",
       "        text-align: right;\n",
       "    }\n",
       "</style>\n",
       "<table border=\"1\" class=\"dataframe\">\n",
       "  <thead>\n",
       "    <tr style=\"text-align: right;\">\n",
       "      <th></th>\n",
       "      <th>count</th>\n",
       "      <th>mean</th>\n",
       "      <th>std</th>\n",
       "      <th>min</th>\n",
       "      <th>25%</th>\n",
       "      <th>50%</th>\n",
       "      <th>75%</th>\n",
       "      <th>max</th>\n",
       "    </tr>\n",
       "    <tr>\n",
       "      <th>Diabetes</th>\n",
       "      <th></th>\n",
       "      <th></th>\n",
       "      <th></th>\n",
       "      <th></th>\n",
       "      <th></th>\n",
       "      <th></th>\n",
       "      <th></th>\n",
       "      <th></th>\n",
       "    </tr>\n",
       "  </thead>\n",
       "  <tbody>\n",
       "    <tr>\n",
       "      <th>0</th>\n",
       "      <td>213703.0</td>\n",
       "      <td>27.742521</td>\n",
       "      <td>6.260993</td>\n",
       "      <td>12.0</td>\n",
       "      <td>24.0</td>\n",
       "      <td>27.0</td>\n",
       "      <td>30.0</td>\n",
       "      <td>98.0</td>\n",
       "    </tr>\n",
       "    <tr>\n",
       "      <th>1</th>\n",
       "      <td>35346.0</td>\n",
       "      <td>31.944011</td>\n",
       "      <td>7.363401</td>\n",
       "      <td>13.0</td>\n",
       "      <td>27.0</td>\n",
       "      <td>31.0</td>\n",
       "      <td>35.0</td>\n",
       "      <td>98.0</td>\n",
       "    </tr>\n",
       "  </tbody>\n",
       "</table>\n",
       "</div>"
      ],
      "text/plain": [
       "             count       mean       std   min   25%   50%   75%   max\n",
       "Diabetes                                                             \n",
       "0         213703.0  27.742521  6.260993  12.0  24.0  27.0  30.0  98.0\n",
       "1          35346.0  31.944011  7.363401  13.0  27.0  31.0  35.0  98.0"
      ]
     },
     "execution_count": 12,
     "metadata": {},
     "output_type": "execute_result"
    }
   ],
   "source": [
    "# Plot BMI Distribution by Diabetes\n",
    "fig, axes = plt.subplots(1, 2, figsize=(14,6))\n",
    "\n",
    "# Boxplot\n",
    "sns.boxplot(x='Diabetes', y='BMI', data=diabetes_data, ax=axes[0])\n",
    "axes[0].set_title('BMI Distribution by Diabetes (Boxplot)')\n",
    "axes[0].set_xlabel('Diabetes')\n",
    "axes[0].set_ylabel('BMI')\n",
    "\n",
    "# KDE Plot\n",
    "sns.kdeplot(data=diabetes_data, x='BMI', hue='Diabetes', fill=True, common_norm=False, ax=axes[1])\n",
    "axes[1].set_title('BMI Distribution by Diabetes (KDE Plot)')\n",
    "axes[1].set_xlabel('BMI')\n",
    "axes[1].set_ylabel('Density')\n",
    "\n",
    "plt.tight_layout()\n",
    "plt.show()\n",
    "\n",
    "# Print summary statistics by diabetes status\n",
    "print(\"BMI Summary Statistics by Diabetes Status\")\n",
    "diabetes_data.groupby('Diabetes')['BMI'].describe()"
   ]
  },
  {
   "cell_type": "markdown",
   "id": "c60c1393-54eb-4c55-918d-459a67fb35da",
   "metadata": {},
   "source": [
    "The findings suggest that there is a strong positive association between higher BMI and diabetes:\n",
    "- Individuals with diabetes have a higher average BMI (mean=31.9, std=7.4) than individuals without diabetes (mean=27.7, std=6.3)\n",
    "- The distribution of BMI is shifted higher (more to the right) among individuals with diabetes\n",
    "- Individuals with diabetes have higher elevated 25th, 50th, and 75th percentile values across the board"
   ]
  },
  {
   "cell_type": "code",
   "execution_count": null,
   "id": "90c4d272-6dfc-42d6-aa42-215d716e490d",
   "metadata": {},
   "outputs": [],
   "source": []
  },
  {
   "cell_type": "markdown",
   "id": "593cb892-6b1f-452d-9f4e-c5fa39d3f151",
   "metadata": {},
   "source": [
    "#### Data Cleaning \n",
    "\n",
    "Next, let's clean the data to ensure it is consistent and formatted properly for training the neural network."
   ]
  },
  {
   "cell_type": "markdown",
   "id": "d2c3003f-bb9a-4feb-8003-a386f58a4522",
   "metadata": {},
   "source": [
    "**Balance the Dataset**\n",
    "\n",
    "We saw that the target variable `Diabetes` is imbalanced, with the majority of individuals not having diabetes (84.2% vs. 13.9% class distribution). While this distribution reflects the real-world scenario, our models may become biased toward the majority class. \n",
    "\n",
    "For example, if the model predicts that every individual does not have diabetes (the majority class), we would expect to achieve ~84.2% accuracy. On paper, that sounds really good, but in practice, it is very misleading. Remember, our goal is to identify individuals at risk for diabetes! \n",
    "\n",
    "There are many techniques to improve sensitivity to individuals with diabetes (minority class), such as oversampling the minority class, undersampling the majority class, or hybrid approaches. In this project, we'll undersample the majority class to balance the dataset such that the ratio of individuals with and without diabetes is 50/50."
   ]
  },
  {
   "cell_type": "code",
   "execution_count": null,
   "id": "98e38f7f-e730-4eb6-98e3-73eb89788171",
   "metadata": {},
   "outputs": [
    {
     "name": "stdout",
     "output_type": "stream",
     "text": [
      "Diabetes\n",
      "0    35346\n",
      "1    35346\n",
      "Name: count, dtype: int64\n"
     ]
    }
   ],
   "source": [
    "# Balance the dataset 50/50\n",
    "diabetics = diabetes_data[diabetes_data['Diabetes'] == 1] # Dataset of diabetic individuals\n",
    "nondiabetics = diabetes_data[diabetes_data['Diabetes'] == 0] # Dataset of nondiabetic individuals\n",
    "\n",
    "# Undersample nondiabetic individuals + keep all diabetic individuals\n",
    "nondiabetics_sampled = nondiabetics.sample(n=len(diabetics), random_state=42) \n",
    "diabetes_data_balanced = pd.concat([diabetics, nondiabetics_sampled])\n",
    "\n",
    "# Shuffle the combined dataset + verify balance\n",
    "diabetes_data_balanced = diabetes_data_balanced.sample(frac=1, random_state=42).reset_index(drop=True)\n",
    "print(diabetes_data_balanced['Diabetes'].value_counts())"
   ]
  },
  {
   "cell_type": "markdown",
   "id": "cd8696d8-8dd1-4e86-b439-fd10b05790ae",
   "metadata": {},
   "source": [
    "**Numerically Encode Object Columns**\n",
    "\n",
    "Next, we'll need to numerically encode the following columns: `Sex`, `Age`, `Education`, and `Income`\n",
    "- `Sex` is encoded as a binary value (`1` or `0`)\n",
    "- `Age`, `Education`, and `Income` are encoded as ordinal values starting from `1`"
   ]
  },
  {
   "cell_type": "code",
   "execution_count": null,
   "id": "3eeeede3-9a16-40e1-a4e6-351a8c2cc969",
   "metadata": {},
   "outputs": [],
   "source": [
    "# Sex\n",
    "diabetes_data_balanced['Sex'] = diabetes_data_balanced['Sex'].replace({'Female':0, 'Male':1})\n",
    "\n",
    "# Age\n",
    "age_mapping = {\"18-24\":1, \"25-29\":2, \"30-34\":3, \"35-39\":4, \"40-44\":5, \"45-49\":6, \n",
    "               \"50-54\":7, \"55-59\":8, \"60-64\":9, \"65-69\":10, \"70-74\":11, \"75-79\":12, \"80+\":13}\n",
    "\n",
    "diabetes_data_balanced['Age'] = diabetes_data_balanced['Age'].map(age_mapping)\n",
    "\n",
    "# Education\n",
    "education_mapping = {\"Never attended school or only kindergarten\":1,\n",
    "                     \"Grades 1-8 (Elementary)\":2,\n",
    "                     \"Grades 9-11 (Some high school)\":3,\n",
    "                     \"Grade 12 or GED (High school graduate)\":4,\n",
    "                     \"College 1-3 years (Some college/technical school)\":5,\n",
    "                     \"College 4+ years (College graduate)\":6}\n",
    "\n",
    "diabetes_data_balanced['Education'] = diabetes_data_balanced['Education'].map(education_mapping)\n",
    "\n",
    "# Income\n",
    "income_mapping = {\"Less than $10,000\":1,\n",
    "                  \"Less than $15,000\":2,\n",
    "                  \"Less than $20,000\":3,\n",
    "                  \"Less than $25,000\":4,\n",
    "                  \"Less than $35,000\":5,\n",
    "                  \"Less than $50,000\":6,\n",
    "                  \"Less than $75,000\":7,\n",
    "                  \"$75,000 or more\":8}\n",
    "\n",
    "diabetes_data_balanced['Income'] = diabetes_data_balanced['Income'].map(income_mapping)"
   ]
  },
  {
   "cell_type": "markdown",
   "id": "e19b5d1a-8c68-40d2-8911-5ad5892e949c",
   "metadata": {},
   "source": [
    "**Numerically Encode Binary Columns**\n",
    "\n",
    "Next, we'll numerically encode the following binary columns with `yes` or `no` values: \n",
    "- `HighBP`, `HighChol`, `CholCheck`, `Smoker`, `Stroke`, `HeartDiseaseorAttack`, `PhysActivity`, `Fruits`, `Veggies`, `HvyAlcoholConsump`, `AnyHealthcare`, `NoDocbcCost`, `DiffWalk`"
   ]
  },
  {
   "cell_type": "code",
   "execution_count": null,
   "id": "a810be02-7179-4703-9182-7dd3f3db0560",
   "metadata": {},
   "outputs": [],
   "source": [
    "# Binary features\n",
    "binary_columns = ['HighBP', 'HighChol', 'CholCheck', 'Smoker', \n",
    "                  'Stroke', 'HeartDiseaseorAttack', 'PhysActivity', 'Fruits', \n",
    "                  'Veggies', 'HvyAlcoholConsump', 'AnyHealthcare', \n",
    "                  'NoDocbcCost', 'DiffWalk']\n",
    "\n",
    "diabetes_data_balanced[binary_columns] = diabetes_data_balanced[binary_columns].replace({\"No\":0, \"Yes\":1})"
   ]
  },
  {
   "cell_type": "code",
   "execution_count": null,
   "id": "69d6227f-0551-4fac-a503-c724aa229793",
   "metadata": {},
   "outputs": [
    {
     "data": {
      "text/plain": [
       "NoDocbcCost\n",
       "0    64130\n",
       "1     6562\n",
       "Name: count, dtype: int64"
      ]
     },
     "execution_count": 16,
     "metadata": {},
     "output_type": "execute_result"
    }
   ],
   "source": [
    "diabetes_data_balanced['NoDocbcCost'].value_counts()"
   ]
  },
  {
   "cell_type": "markdown",
   "id": "78215151-1932-4fe0-a63f-182f7715c0eb",
   "metadata": {},
   "source": [
    "**Feature Selection**\n",
    "\n",
    "Feature selection is an important pre-processing step to improve model performance by removing irrelevant features.\n",
    "\n",
    "We'll remove the following features:\n",
    "- `CholCheck`: Whether the individual had their cholesterol checked in the past 5 years \n",
    "    - low variance, most individuals have had their cholesterol checked\n",
    "    - not as directly predictive of diabetes as other factors, like having high cholesterol\n",
    "- `NoDocbcCost`: Whether the individual could not see a doctor in the past year because of cost\n",
    "    - low variance, most individuals could see a doctor in the past year\n",
    "    - more related to healthcare access, like having healthcare coverage"
   ]
  },
  {
   "cell_type": "code",
   "execution_count": null,
   "id": "a1c382f3-53f3-4ddf-9099-aa617b23bd8b",
   "metadata": {},
   "outputs": [],
   "source": [
    "# Drop unimportant features\n",
    "drop_columns = ['CholCheck', 'NoDocbcCost']\n",
    "diabetes_data_balanced = diabetes_data_balanced.drop(labels=drop_columns, axis=1)"
   ]
  },
  {
   "cell_type": "code",
   "execution_count": null,
   "id": "04598e74-5dc7-4723-8bb7-8d1c3938c931",
   "metadata": {},
   "outputs": [
    {
     "data": {
      "text/html": [
       "<div>\n",
       "<style scoped>\n",
       "    .dataframe tbody tr th:only-of-type {\n",
       "        vertical-align: middle;\n",
       "    }\n",
       "\n",
       "    .dataframe tbody tr th {\n",
       "        vertical-align: top;\n",
       "    }\n",
       "\n",
       "    .dataframe thead th {\n",
       "        text-align: right;\n",
       "    }\n",
       "</style>\n",
       "<table border=\"1\" class=\"dataframe\">\n",
       "  <thead>\n",
       "    <tr style=\"text-align: right;\">\n",
       "      <th></th>\n",
       "      <th>HighBP</th>\n",
       "      <th>HighChol</th>\n",
       "      <th>BMI</th>\n",
       "      <th>Smoker</th>\n",
       "      <th>Stroke</th>\n",
       "      <th>HeartDiseaseorAttack</th>\n",
       "      <th>PhysActivity</th>\n",
       "      <th>Fruits</th>\n",
       "      <th>Veggies</th>\n",
       "      <th>HvyAlcoholConsump</th>\n",
       "      <th>AnyHealthcare</th>\n",
       "      <th>GenHlth</th>\n",
       "      <th>MentHlth</th>\n",
       "      <th>PhysHlth</th>\n",
       "      <th>DiffWalk</th>\n",
       "      <th>Sex</th>\n",
       "      <th>Age</th>\n",
       "      <th>Education</th>\n",
       "      <th>Income</th>\n",
       "      <th>Diabetes</th>\n",
       "    </tr>\n",
       "  </thead>\n",
       "  <tbody>\n",
       "    <tr>\n",
       "      <th>0</th>\n",
       "      <td>0</td>\n",
       "      <td>1</td>\n",
       "      <td>29.0</td>\n",
       "      <td>1</td>\n",
       "      <td>0</td>\n",
       "      <td>0</td>\n",
       "      <td>1</td>\n",
       "      <td>1</td>\n",
       "      <td>1</td>\n",
       "      <td>0</td>\n",
       "      <td>1</td>\n",
       "      <td>2.0</td>\n",
       "      <td>0.0</td>\n",
       "      <td>0.0</td>\n",
       "      <td>0</td>\n",
       "      <td>1</td>\n",
       "      <td>5</td>\n",
       "      <td>6</td>\n",
       "      <td>8</td>\n",
       "      <td>0</td>\n",
       "    </tr>\n",
       "    <tr>\n",
       "      <th>1</th>\n",
       "      <td>1</td>\n",
       "      <td>1</td>\n",
       "      <td>39.0</td>\n",
       "      <td>0</td>\n",
       "      <td>0</td>\n",
       "      <td>0</td>\n",
       "      <td>0</td>\n",
       "      <td>1</td>\n",
       "      <td>1</td>\n",
       "      <td>0</td>\n",
       "      <td>1</td>\n",
       "      <td>5.0</td>\n",
       "      <td>0.0</td>\n",
       "      <td>30.0</td>\n",
       "      <td>1</td>\n",
       "      <td>1</td>\n",
       "      <td>8</td>\n",
       "      <td>5</td>\n",
       "      <td>5</td>\n",
       "      <td>1</td>\n",
       "    </tr>\n",
       "    <tr>\n",
       "      <th>2</th>\n",
       "      <td>1</td>\n",
       "      <td>1</td>\n",
       "      <td>37.0</td>\n",
       "      <td>0</td>\n",
       "      <td>0</td>\n",
       "      <td>0</td>\n",
       "      <td>0</td>\n",
       "      <td>1</td>\n",
       "      <td>1</td>\n",
       "      <td>0</td>\n",
       "      <td>1</td>\n",
       "      <td>4.0</td>\n",
       "      <td>7.0</td>\n",
       "      <td>1.0</td>\n",
       "      <td>1</td>\n",
       "      <td>0</td>\n",
       "      <td>10</td>\n",
       "      <td>4</td>\n",
       "      <td>3</td>\n",
       "      <td>1</td>\n",
       "    </tr>\n",
       "    <tr>\n",
       "      <th>3</th>\n",
       "      <td>1</td>\n",
       "      <td>0</td>\n",
       "      <td>27.0</td>\n",
       "      <td>0</td>\n",
       "      <td>0</td>\n",
       "      <td>0</td>\n",
       "      <td>1</td>\n",
       "      <td>1</td>\n",
       "      <td>1</td>\n",
       "      <td>0</td>\n",
       "      <td>1</td>\n",
       "      <td>3.0</td>\n",
       "      <td>0.0</td>\n",
       "      <td>15.0</td>\n",
       "      <td>0</td>\n",
       "      <td>1</td>\n",
       "      <td>10</td>\n",
       "      <td>6</td>\n",
       "      <td>8</td>\n",
       "      <td>1</td>\n",
       "    </tr>\n",
       "    <tr>\n",
       "      <th>4</th>\n",
       "      <td>0</td>\n",
       "      <td>0</td>\n",
       "      <td>20.0</td>\n",
       "      <td>0</td>\n",
       "      <td>0</td>\n",
       "      <td>0</td>\n",
       "      <td>1</td>\n",
       "      <td>1</td>\n",
       "      <td>1</td>\n",
       "      <td>0</td>\n",
       "      <td>1</td>\n",
       "      <td>1.0</td>\n",
       "      <td>0.0</td>\n",
       "      <td>0.0</td>\n",
       "      <td>0</td>\n",
       "      <td>0</td>\n",
       "      <td>3</td>\n",
       "      <td>6</td>\n",
       "      <td>8</td>\n",
       "      <td>0</td>\n",
       "    </tr>\n",
       "  </tbody>\n",
       "</table>\n",
       "</div>"
      ],
      "text/plain": [
       "   HighBP  HighChol   BMI  Smoker  Stroke  HeartDiseaseorAttack  PhysActivity  \\\n",
       "0       0         1  29.0       1       0                     0             1   \n",
       "1       1         1  39.0       0       0                     0             0   \n",
       "2       1         1  37.0       0       0                     0             0   \n",
       "3       1         0  27.0       0       0                     0             1   \n",
       "4       0         0  20.0       0       0                     0             1   \n",
       "\n",
       "   Fruits  Veggies  HvyAlcoholConsump  AnyHealthcare  GenHlth  MentHlth  \\\n",
       "0       1        1                  0              1      2.0       0.0   \n",
       "1       1        1                  0              1      5.0       0.0   \n",
       "2       1        1                  0              1      4.0       7.0   \n",
       "3       1        1                  0              1      3.0       0.0   \n",
       "4       1        1                  0              1      1.0       0.0   \n",
       "\n",
       "   PhysHlth  DiffWalk  Sex  Age  Education  Income  Diabetes  \n",
       "0       0.0         0    1    5          6       8         0  \n",
       "1      30.0         1    1    8          5       5         1  \n",
       "2       1.0         1    0   10          4       3         1  \n",
       "3      15.0         0    1   10          6       8         1  \n",
       "4       0.0         0    0    3          6       8         0  "
      ]
     },
     "execution_count": 18,
     "metadata": {},
     "output_type": "execute_result"
    }
   ],
   "source": [
    "# Preview before training\n",
    "diabetes_data_balanced.head()"
   ]
  },
  {
   "cell_type": "markdown",
   "id": "1d1066bf-7290-4515-ad5f-9a66a6045a11",
   "metadata": {},
   "source": [
    "### Classification Task - Predicting Diabetes\n",
    "\n",
    "Let's build and train our neural network to predict diabetes!"
   ]
  },
  {
   "cell_type": "markdown",
   "id": "ba3a4edb-03a5-4765-9fbe-bc0009fd4610",
   "metadata": {},
   "source": [
    "**Pre-processing**\n",
    "\n",
    "1. Select training features to predict `Diabetes` column.\n",
    "2. Convert the data into tensors.\n",
    "3. Split the data into training and testing sets."
   ]
  },
  {
   "cell_type": "code",
   "execution_count": null,
   "id": "9cb9b2a4-2129-4db2-9c02-9f3373c366c8",
   "metadata": {},
   "outputs": [
    {
     "name": "stdout",
     "output_type": "stream",
     "text": [
      "Number of training features: 19\n"
     ]
    }
   ],
   "source": [
    "# Select training features\n",
    "remove_cols = ['Diabetes']\n",
    "train_features = [x for x in diabetes_data_balanced.columns if x not in remove_cols]\n",
    "print(\"Number of training features:\", len(train_features))"
   ]
  },
  {
   "cell_type": "code",
   "execution_count": null,
   "id": "c13c6283-e859-4eea-9660-b13e1f0a579f",
   "metadata": {},
   "outputs": [],
   "source": [
    "# Convert into tensors\n",
    "import torch\n",
    "X = torch.tensor(diabetes_data_balanced[train_features].values, dtype=torch.float)\n",
    "y = torch.tensor(diabetes_data_balanced['Diabetes'].values, dtype=torch.float).view(-1,1)"
   ]
  },
  {
   "cell_type": "code",
   "execution_count": null,
   "id": "89261d66-6b26-4075-9224-75b0109954f3",
   "metadata": {},
   "outputs": [
    {
     "name": "stdout",
     "output_type": "stream",
     "text": [
      "Training Shape: torch.Size([56553, 19])\n",
      "Testing Shape: torch.Size([14139, 19])\n"
     ]
    }
   ],
   "source": [
    "# Split the data into training (80%) and testing (20%) sets\n",
    "from sklearn.model_selection import train_test_split\n",
    "X_train, X_test, y_train, y_test = train_test_split(X, y,\n",
    "                                                    train_size=0.80,\n",
    "                                                    test_size=0.20,\n",
    "                                                    random_state=42) \n",
    "\n",
    "print(\"Training Shape:\", X_train.shape)\n",
    "print(\"Testing Shape:\", X_test.shape)"
   ]
  },
  {
   "cell_type": "markdown",
   "id": "2d6710bc-33d1-4799-bd0d-2742245e69b2",
   "metadata": {},
   "source": [
    "**Build the Neural Network Architecture**"
   ]
  },
  {
   "cell_type": "code",
   "execution_count": null,
   "id": "c65a29cc-f5b8-49cc-8452-dde60ec367f1",
   "metadata": {},
   "outputs": [
    {
     "name": "stderr",
     "output_type": "stream",
     "text": [
      "C:\\Users\\nopro\\anaconda3\\envs\\CODECADEMY_ENV_NEW\\lib\\site-packages\\tqdm\\auto.py:21: TqdmWarning: IProgress not found. Please update jupyter and ipywidgets. See https://ipywidgets.readthedocs.io/en/stable/user_install.html\n",
      "  from .autonotebook import tqdm as notebook_tqdm\n"
     ]
    }
   ],
   "source": [
    "import torch.nn as nn\n",
    "import torch.optim as optim\n",
    "torch.manual_seed(42)\n",
    "\n",
    "# NN architecture\n",
    "binary_model = nn.Sequential(\n",
    "    nn.Linear(19, 48),\n",
    "    nn.ReLU(),\n",
    "    nn.Linear(48, 16),\n",
    "    nn.ReLU(),\n",
    "    nn.Linear(16, 12),\n",
    "    nn.GELU(),\n",
    "    nn.Linear(12, 1),\n",
    "    nn.Sigmoid()\n",
    ")\n",
    "\n",
    "# Initialize loss function + optimizer\n",
    "loss = nn.BCELoss()\n",
    "optimizer = optim.Adam(binary_model.parameters(), lr=0.003)"
   ]
  },
  {
   "cell_type": "markdown",
   "id": "1fde9372-8788-4d58-a2e4-1af8608bcb5e",
   "metadata": {},
   "source": [
    "**Training Loop**"
   ]
  },
  {
   "cell_type": "code",
   "execution_count": null,
   "id": "8c8602a7-b49e-4054-bea3-b1ebda42fb71",
   "metadata": {},
   "outputs": [
    {
     "name": "stdout",
     "output_type": "stream",
     "text": [
      "Epoch [100/1000], BCELoss: 0.5110, Accuracy: 0.7471\n",
      "Epoch [200/1000], BCELoss: 0.5028, Accuracy: 0.7536\n",
      "Epoch [300/1000], BCELoss: 0.5000, Accuracy: 0.7555\n",
      "Epoch [400/1000], BCELoss: 0.4989, Accuracy: 0.7559\n",
      "Epoch [500/1000], BCELoss: 0.4984, Accuracy: 0.7564\n",
      "Epoch [600/1000], BCELoss: 0.4984, Accuracy: 0.7561\n",
      "Epoch [700/1000], BCELoss: 0.4974, Accuracy: 0.7572\n",
      "Epoch [800/1000], BCELoss: 0.4970, Accuracy: 0.7565\n",
      "Epoch [900/1000], BCELoss: 0.4971, Accuracy: 0.7569\n",
      "Epoch [1000/1000], BCELoss: 0.4962, Accuracy: 0.7572\n"
     ]
    }
   ],
   "source": [
    "# Training loop\n",
    "from sklearn.metrics import accuracy_score\n",
    "num_epochs = 1000\n",
    "for epoch in range(num_epochs):\n",
    "    binary_model.train()\n",
    "    predictions = binary_model(X_train)\n",
    "    BCELoss = loss(predictions, y_train)\n",
    "    BCELoss.backward()\n",
    "    optimizer.step()\n",
    "    optimizer.zero_grad()\n",
    "    \n",
    "    if (epoch + 1) % 100 == 0:\n",
    "        # Track the training accuracy\n",
    "        predicted_labels = (predictions >= 0.5).int()\n",
    "        accuracy = accuracy_score(y_train, predicted_labels)\n",
    "        print(f'Epoch [{epoch+1}/{num_epochs}], BCELoss: {BCELoss.item():.4f}, Accuracy: {accuracy.item():.4f}')"
   ]
  },
  {
   "cell_type": "markdown",
   "id": "eb0c7c1f-e36a-481a-936b-44d341e68d70",
   "metadata": {},
   "source": [
    "**Testing Set Evaluation**"
   ]
  },
  {
   "cell_type": "code",
   "execution_count": null,
   "id": "e934e622-78a6-4729-afd9-eeba77bc61b8",
   "metadata": {},
   "outputs": [],
   "source": [
    "# Set the model to evaluation mode\n",
    "binary_model.eval()\n",
    "\n",
    "# Generate test set predictions\n",
    "with torch.no_grad():\n",
    "    test_predictions = binary_model(X_test)\n",
    "    test_predicted_labels = (test_predictions >= 0.5).int()"
   ]
  },
  {
   "cell_type": "code",
   "execution_count": null,
   "id": "c2fd907a-c45e-4665-8d4c-c7b7a0156382",
   "metadata": {},
   "outputs": [
    {
     "name": "stdout",
     "output_type": "stream",
     "text": [
      "Accuracy: 0.7553\n",
      "Classification Report:\n",
      "               precision    recall  f1-score   support\n",
      "\n",
      "         0.0       0.80      0.70      0.74      7160\n",
      "         1.0       0.72      0.82      0.77      6979\n",
      "\n",
      "    accuracy                           0.76     14139\n",
      "   macro avg       0.76      0.76      0.75     14139\n",
      "weighted avg       0.76      0.76      0.75     14139\n",
      "\n"
     ]
    }
   ],
   "source": [
    "# Classification report\n",
    "from sklearn.metrics import accuracy_score, classification_report\n",
    "test_accuracy = accuracy_score(y_test, test_predicted_labels)\n",
    "print(f'Accuracy: {test_accuracy.item():.4f}')\n",
    "        \n",
    "report = classification_report(y_test, test_predicted_labels)\n",
    "print(\"Classification Report:\\n\", report)"
   ]
  },
  {
   "cell_type": "markdown",
   "id": "8d613de7-44a0-4a2a-9f9b-1bd858c02237",
   "metadata": {},
   "source": [
    "#### Key Insights\n",
    "\n",
    "The neural network shows promising discriminative ability in predicting individuals with diabetes based on health factors, including medical and lifestyle information.\n",
    "\n",
    "Let's break down the testing set performance:\n",
    "\n",
    "**Overall Accuracy**\n",
    "\n",
    "The model achieves an overall accuracy of 75.53%. This means that it correctly predicted 75.53% of all individuals in the out-of-sample testing set, which is promising but requires more in-depth analysis of the classification performance within each class.\n",
    "\n",
    "**Class 0 Performance (No Diabetes)**\n",
    "\n",
    "Within individuals who do not have diabetes:\n",
    "- A precision of 0.80 means that when the network predicted that an individual was non-diabetic, it was correct 80% of the time\n",
    "- A recall of 0.70 means that the network correctly identified 70% of all non-diabetic individuals\n",
    "- An F1-score of 0.74 suggests a reasonable balance between precision and recall\n",
    "\n",
    "**Class 1 Performance (Diabetes)**\n",
    "\n",
    "Within individuals who do have diabetes:\n",
    "- A precision of 0.72 means that when the network predicted that an individual was diabetic, it was correct 72% of the time\n",
    "- A recall of 0.82 means that the network correctly identified 82% of diabetic individuals\n",
    "- An F1-score of 0.77 suggests a reasonable balance between precision and recall\n",
    "\n",
    "From the clinical perspective of screening individuals for diabetes, the recall performance for class 1 (detecting the disease) is generally considered the most critical metric because missing a diagnosis (false negative) can lead to delayed treatment, resulting in serious complications.\n",
    "\n",
    "The 82% recall for the diabetic class is quite good, as the model correctly identified about 4 out of 5 diabetic individuals. While impressive, there are important ethical and practical considerations to consider before implementing the model for any real-world clinical use. Again, any health-related decisions should always be made with the guidance of a qualified healthcare professional!"
   ]
  },
  {
   "cell_type": "code",
   "execution_count": null,
   "id": "c6f04a6e-3d3a-46ad-aabf-cdabb412a424",
   "metadata": {},
   "outputs": [],
   "source": []
  },
  {
   "cell_type": "markdown",
   "id": "24faac1d-dcd6-4ab6-a3f5-d97b70ed253f",
   "metadata": {},
   "source": [
    "### Regression Task - Predicting Age"
   ]
  },
  {
   "cell_type": "markdown",
   "id": "54aad16e-6d3f-4ddf-8232-80aed85b57c5",
   "metadata": {},
   "source": [
    "Now, let's build and train a neural network to predict an individual's age!\n",
    "\n",
    "**Note:** Although the `Age` variable in this dataset is represented as a binned ordinal variable (from 1 to 13), we have deliberately chosen to approach this task as a regression problem. Chronological age is continuous in nature in which regression models may intrinsically be able to capture this ordinal structure better than classification approaches. We'll also need to carefully interpret the regression model's output by mapping the predicted values to approximate age ranges. "
   ]
  },
  {
   "cell_type": "markdown",
   "id": "d06058a4-dd99-436a-80b3-3d7bb5a9fa95",
   "metadata": {},
   "source": [
    "**Pre-processing**\n",
    "\n",
    "1. Select training features to predict `Age` column.\n",
    "2. Convert the data into tensors.\n",
    "3. Split the data into training and testing sets."
   ]
  },
  {
   "cell_type": "code",
   "execution_count": null,
   "id": "186cf7e9-e184-44e9-a155-1a55e78db2c9",
   "metadata": {},
   "outputs": [
    {
     "name": "stdout",
     "output_type": "stream",
     "text": [
      "Number of training features: 19\n"
     ]
    }
   ],
   "source": [
    "# Select training features\n",
    "remove_cols = ['Age']\n",
    "train_features = [x for x in diabetes_data_balanced.columns if x not in remove_cols]\n",
    "\n",
    "print(\"Number of training features:\", len(train_features))"
   ]
  },
  {
   "cell_type": "code",
   "execution_count": null,
   "id": "d9af5811-10d8-428f-81c4-c1e62ff45b8c",
   "metadata": {},
   "outputs": [],
   "source": [
    "# Convert into tensors\n",
    "import torch\n",
    "X = torch.tensor(diabetes_data_balanced[train_features].values, dtype=torch.float)\n",
    "y = torch.tensor(diabetes_data_balanced['Age'].values, dtype=torch.float).view(-1,1)"
   ]
  },
  {
   "cell_type": "code",
   "execution_count": null,
   "id": "07b7ba2e-bbfc-46f0-bbdd-2c6d7f5d6a9c",
   "metadata": {},
   "outputs": [
    {
     "name": "stdout",
     "output_type": "stream",
     "text": [
      "Training Shape: torch.Size([56553, 19])\n",
      "Testing Shape: torch.Size([14139, 19])\n"
     ]
    }
   ],
   "source": [
    "# Split the data into training (80%) and testing (20%) sets\n",
    "from sklearn.model_selection import train_test_split\n",
    "X_train, X_test, y_train, y_test = train_test_split(X, y,\n",
    "                                                    train_size=0.80,\n",
    "                                                    test_size=0.20,\n",
    "                                                    random_state=0) \n",
    "\n",
    "print(\"Training Shape:\", X_train.shape)\n",
    "print(\"Testing Shape:\", X_test.shape)"
   ]
  },
  {
   "cell_type": "markdown",
   "id": "6e5c9d73-7e8e-48af-a2c5-fbbb5de89b47",
   "metadata": {},
   "source": [
    "**Linear Regression Baseline**\n",
    "\n",
    "Let's also build a linear regression baseline to compare the neural network performance against."
   ]
  },
  {
   "cell_type": "code",
   "execution_count": null,
   "id": "d4303a0a-2670-4032-9224-ca25360ded29",
   "metadata": {},
   "outputs": [
    {
     "name": "stdout",
     "output_type": "stream",
     "text": [
      "Linear Regression - Test Set MSE: 6.169563\n"
     ]
    }
   ],
   "source": [
    "# Linear regression baseline\n",
    "from sklearn.linear_model import LinearRegression\n",
    "linear_model = LinearRegression()\n",
    "linear_model.fit(X_train, y_train)\n",
    "\n",
    "# Evaluate linear regression with MSE\n",
    "from sklearn.metrics import mean_squared_error\n",
    "linear_test_predictions = linear_model.predict(X_test)\n",
    "linear_test_mse = mean_squared_error(y_test, linear_test_predictions)\n",
    "print(\"Linear Regression - Test Set MSE:\", linear_test_mse)"
   ]
  },
  {
   "cell_type": "markdown",
   "id": "48f8bb97-8834-4942-bb48-ab0577659176",
   "metadata": {},
   "source": [
    "**Build the Neural Network Architecture**"
   ]
  },
  {
   "cell_type": "code",
   "execution_count": null,
   "id": "4ef94c69-0add-4da3-862c-6a2904f6a1d2",
   "metadata": {},
   "outputs": [],
   "source": [
    "import torch.nn as nn\n",
    "import torch.optim as optim\n",
    "torch.manual_seed(42)\n",
    "\n",
    "# NN architecture\n",
    "regression_model = nn.Sequential(\n",
    "    nn.Linear(19, 48),\n",
    "    nn.ReLU(),\n",
    "    nn.Linear(48, 24),\n",
    "    nn.ReLU(),\n",
    "    nn.Linear(24, 8),\n",
    "    nn.ReLU(),\n",
    "    nn.Linear(8, 1)\n",
    ")\n",
    "\n",
    "# Initialize loss function + optimizer\n",
    "loss = nn.MSELoss()\n",
    "optimizer = optim.Adam(regression_model.parameters(), lr=0.003)"
   ]
  },
  {
   "cell_type": "markdown",
   "id": "9027614f-3b7d-44ee-81c2-3168b2ce17aa",
   "metadata": {},
   "source": [
    "**Training Loop**"
   ]
  },
  {
   "cell_type": "code",
   "execution_count": null,
   "id": "a09862ef-b55b-4f4d-b803-27c39e880262",
   "metadata": {},
   "outputs": [
    {
     "name": "stdout",
     "output_type": "stream",
     "text": [
      "Epoch [100/1000], MSE Loss: 9.262872695922852\n",
      "Epoch [200/1000], MSE Loss: 7.173412322998047\n",
      "Epoch [300/1000], MSE Loss: 6.593778133392334\n",
      "Epoch [400/1000], MSE Loss: 5.91213846206665\n",
      "Epoch [500/1000], MSE Loss: 5.67910099029541\n",
      "Epoch [600/1000], MSE Loss: 5.591210842132568\n",
      "Epoch [700/1000], MSE Loss: 5.531044960021973\n",
      "Epoch [800/1000], MSE Loss: 5.473059177398682\n",
      "Epoch [900/1000], MSE Loss: 5.433137893676758\n",
      "Epoch [1000/1000], MSE Loss: 5.414791584014893\n"
     ]
    }
   ],
   "source": [
    "# Training loop\n",
    "num_epochs = 1000 \n",
    "for epoch in range(num_epochs):\n",
    "    regression_model.train()\n",
    "    outputs = regression_model(X_train)\n",
    "    mse = loss(outputs, y_train) \n",
    "    mse.backward()\n",
    "    optimizer.step() \n",
    "    optimizer.zero_grad() \n",
    "\n",
    "    # Track of the training loss\n",
    "    if (epoch + 1) % 100 == 0:\n",
    "        print(f'Epoch [{epoch + 1}/{num_epochs}], MSE Loss: {mse.item()}')"
   ]
  },
  {
   "cell_type": "markdown",
   "id": "f2d3ac99-bff4-4dec-9d9e-d9ac0aefa302",
   "metadata": {},
   "source": [
    "**Testing Set Evaluation**"
   ]
  },
  {
   "cell_type": "code",
   "execution_count": null,
   "id": "dba5dd5d-8962-43fc-abca-0f640c632721",
   "metadata": {},
   "outputs": [
    {
     "name": "stdout",
     "output_type": "stream",
     "text": [
      "Linear Regression - Test Set MSE: 6.169562816619873\n",
      "Neural Network - Test Set MSE: 5.579946041107178\n"
     ]
    }
   ],
   "source": [
    "# Set the model to evaluation mode\n",
    "regression_model.eval()\n",
    "\n",
    "# Generate test set predictions + test set MSE\n",
    "with torch.no_grad():\n",
    "    nn_test_predictions = regression_model(X_test)\n",
    "    nn_test_mse = loss(nn_test_predictions, y_test)\n",
    "\n",
    "print(\"Linear Regression - Test Set MSE:\", linear_test_mse.item())\n",
    "print('Neural Network - Test Set MSE:', nn_test_mse.item()) "
   ]
  },
  {
   "cell_type": "markdown",
   "id": "01b57456-3460-40a3-9639-e669a9922f6b",
   "metadata": {},
   "source": [
    "**Example Prediction**"
   ]
  },
  {
   "cell_type": "code",
   "execution_count": null,
   "id": "a4d2a293-1ba9-4dc2-b895-2dc7f6200ee9",
   "metadata": {},
   "outputs": [
    {
     "name": "stdout",
     "output_type": "stream",
     "text": [
      "Neural Network Prediction: tensor([10.7624])\n",
      "Linear Regression Prediction: [11.6764965]\n",
      "Ground Truth: tensor([9.])\n"
     ]
    }
   ],
   "source": [
    "obs = 0\n",
    "print(\"Neural Network Prediction:\", nn_test_predictions[obs])\n",
    "print(\"Linear Regression Prediction:\", linear_test_predictions[obs])\n",
    "print(\"Ground Truth:\", y_test[obs])"
   ]
  },
  {
   "cell_type": "markdown",
   "id": "d105de37-f747-40cf-a2c5-b8333b6af15a",
   "metadata": {},
   "source": [
    "#### Key Insights\n",
    "\n",
    "The neural network outperforms the linear regression baseline with an MSE of 5.58 compared to 6.17 on the out-of-sample testing set (roughly 10% more). This improvement indicates that the neural network is better at capturing more complex, non-linear relationships in the data than linear regression, meaning that it helps better predict individuals into appropriate age groups.\n",
    "\n",
    "Let's take a look at the example prediction:\n",
    "- Neural network: 10.76\n",
    "- Linear regression 11.68\n",
    "- Ground truth: 9.0\n",
    "\n",
    "Both models seem to overestimate the individual's actual age group, but the neural network's prediction is closer to the ground truth. This suggests that there could be a systematic bias towards predicting older age groups, but we'll have to perform a more in-depth analysis. \n",
    "\n",
    "Specifically, the neural network's prediction of 10.76 suggests that it predicts a category between 10 and 11. We may consider rounding the prediction to the nearest integer, 11. Still, the general sense is that the model predicts that this individual is older (between 65-75) than their actual age group, 9 (between 60-64). This could suggest that the individual's health factors (their medical and lifestyle information) are more consistent with someone in an older age group. \n",
    "\n",
    "This accelerated aging signal could help identify individuals who might benefit from preventative care and/or lifestyle interventions to decrease their risk of age-related complications."
   ]
  },
  {
   "cell_type": "markdown",
   "id": "cda9a68d-9cdf-499b-bf13-d3a0ff527058",
   "metadata": {},
   "source": [
    "#### Conclusion\n",
    "\n",
    "In conclusion, our project successfully developed neural networks to address two health-related problems: predicting diabetes and age regression. The predictive models' performance demonstrates the potential for machine learning, specifically neural networks, as a viable tool for initial healthcare screenings. \n",
    "\n",
    "Future work could explore using different model architectures, dataset balancing techniques, feature selection techniques, collecting more data, and applying more rigorous testing. Remember, these models are not intended for real-world medical applications and should not be relied upon for diagnosing, predicting, or managing diabetes or any other health outcomes. Any health-related decisions should always be made with the guidance of a qualified healthcare professional!"
   ]
  },
  {
   "cell_type": "code",
   "execution_count": null,
   "id": "8b828380-71e2-45cc-b00b-c84cf5e2d689",
   "metadata": {},
   "outputs": [],
   "source": []
  }
 ],
 "metadata": {
  "kernelspec": {
   "display_name": "base",
   "language": "python",
   "name": "python3"
  },
  "language_info": {
   "codemirror_mode": {
    "name": "ipython",
    "version": 3
   },
   "file_extension": ".py",
   "mimetype": "text/x-python",
   "name": "python",
   "nbconvert_exporter": "python",
   "pygments_lexer": "ipython3",
   "version": "3.13.5"
  }
 },
 "nbformat": 4,
 "nbformat_minor": 5
}
